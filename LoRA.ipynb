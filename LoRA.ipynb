{
 "cells": [
  {
   "cell_type": "markdown",
   "metadata": {
    "cell_ktag": "WtIcOBRcHRSU"
   },
   "source": [
    "# Introduction\n",
    "\n",
    "**Aim of the notebook**  \n",
    "\n",
    "Given a neural network (NN) classifier pre-trained on the subset of MNIST containing digits 0...4,\n",
    "fine-tune, by optimizing all weights, and compare the test accuracy of the baseline model versus fine-tuning a LoRA.\n",
    "\n",
    "The neural network that we define is artificially big because LoRA is usually applied to Large Language Models of billions of parameters\n",
    "\n",
    "**What is a LoRA?**\n",
    "\n",
    "LoRA (Low-Rank Adaptation of Large Language Models) is a popular and lightweight training technique that significantly reduces the number of trainable parameters. It works by inserting a smaller number of new weights into the model and only these are trained. This makes training with LoRA much faster, memory-efficient, and produces smaller model weights (a few hundred MBs), which are easier to store and share.\n",
    "\n",
    "<div style=\"display: flex; justify-content: space-between;\">\n",
    "    <img src='https://www.lri.fr/~gcharpia/deeppractice/2024/TP4/imgs/lora_fig.png' style=\"width: 30%;\">\n",
    "    <img src='https://www.lri.fr/~gcharpia/deeppractice/2024/TP4/imgs/lora_text.png' style=\"width: 70%;\">\n",
    "</div>\n",
    "\n",
    "\n",
    "\n",
    "**References** \n",
    "\n",
    "- https://arxiv.org/pdf/2106.09685.pdf\n",
    "\n",
    "- https://lightning.ai/pages/community/tutorial/lora-llm/\n",
    "\n",
    "- https://huggingface.co/docs/diffusers/main/en/training/lora\n"
   ]
  },
  {
   "cell_type": "markdown",
   "id": "8d406200",
   "metadata": {},
   "source": [
    "# Imports"
   ]
  },
  {
   "cell_type": "code",
   "execution_count": 3,
   "metadata": {
    "cell_ktag": "WtIcOBRcHRSU"
   },
   "outputs": [
    {
     "name": "stdout",
     "output_type": "stream",
     "text": [
      "NVIDIA GeForce RTX 3050 Ti Laptop GPU\n",
      "Memory Usage:\n",
      "Allocated: 0.0 GB\n",
      "Cached:    0.0 GB\n"
     ]
    }
   ],
   "source": [
    "import torch\n",
    "import torch.nn as nn\n",
    "import torchvision.datasets as datasets\n",
    "from torch.utils.data import DataLoader, random_split, Subset\n",
    "import torch.nn.utils.parametrize as parametrize\n",
    "import torchvision.transforms as transforms\n",
    "\n",
    "import numpy as np\n",
    "import matplotlib.pyplot as plt\n",
    "\n",
    "from tqdm import tqdm\n",
    "\n",
    "# Make torch deterministic\n",
    "_ = torch.manual_seed(0)\n",
    "\n",
    "# Decide which device we want to run on\n",
    "ngpu = 1\n",
    "device = torch.device(\"cuda:0\" if (\n",
    "    torch.cuda.is_available() and ngpu > 0) else \"cpu\")\n",
    "\n",
    "if device.type == 'cuda':\n",
    "    print(torch.cuda.get_device_name(0))\n",
    "    print('Memory Usage:')\n",
    "    print('Allocated:', round(torch.cuda.memory_allocated(0)/1024**3, 1), 'GB')\n",
    "    print('Cached:   ', round(torch.cuda.memory_reserved(0)/1024**3, 1), 'GB')\n",
    "\n",
    "path_model = \"./model/LoRA/model.pt\"\n",
    "path_state_dic = \"./model/LoRA/state_dic.pt\""
   ]
  },
  {
   "cell_type": "markdown",
   "id": "7372a921",
   "metadata": {},
   "source": [
    "# MNIST Dataset 0 to 4"
   ]
  },
  {
   "cell_type": "code",
   "execution_count": 4,
   "metadata": {
    "cell_ktag": "WtIcOBRcHRSU"
   },
   "outputs": [
    {
     "data": {
      "text/plain": [
       "(21417, 9179, 5139)"
      ]
     },
     "execution_count": 4,
     "metadata": {},
     "output_type": "execute_result"
    }
   ],
   "source": [
    "# These values are the mean and std deviation of the MNIST dataset.\n",
    "transform = transforms.Compose(\n",
    "    [transforms.ToTensor(), transforms.Normalize((0.1307,), (0.3081,))])\n",
    "\n",
    "mnist_train = datasets.MNIST(\n",
    "    root='./data/LoRA', train=True, download=True, transform=transform)\n",
    "mnist_test = datasets.MNIST(\n",
    "    root='./data/LoRA', train=False, download=True, transform=transform)\n",
    "\n",
    "class_names = [0, 1, 2, 3, 4]\n",
    "train_mask = torch.tensor(\n",
    "    [label in class_names for label in mnist_train.targets])\n",
    "test_mask = torch.tensor(\n",
    "    [label in class_names for label in mnist_test.targets])\n",
    "\n",
    "train_dataset = Subset(mnist_train, torch.where(train_mask)[0])\n",
    "test_dataset = Subset(mnist_test, torch.where(test_mask)[0])\n",
    "\n",
    "train_size = int(0.7 * len(train_dataset))\n",
    "val_size = len(train_dataset) - train_size\n",
    "train_dataset, val_dataset = random_split(\n",
    "    train_dataset, [train_size, val_size])\n",
    "\n",
    "batch_size = 128\n",
    "train_loader = DataLoader(train_dataset, batch_size=batch_size, shuffle=True)\n",
    "val_loader = DataLoader(val_dataset, batch_size=batch_size, shuffle=False)\n",
    "test_loader = DataLoader(test_dataset, batch_size=batch_size, shuffle=False)\n",
    "\n",
    "len(train_dataset), len(val_dataset), len(test_dataset)"
   ]
  },
  {
   "cell_type": "markdown",
   "metadata": {
    "cell_ktag": "WtIcOBRcHRSU"
   },
   "source": [
    "### Classifier"
   ]
  },
  {
   "cell_type": "code",
   "execution_count": 5,
   "metadata": {
    "cell_ktag": "WtIcOBRcHRSU"
   },
   "outputs": [],
   "source": [
    "# note that last layer has 5 neurons for digits 0...4\n",
    "# and the same layer will be used for 5...9\n",
    "\n",
    "\n",
    "class classifier(nn.Module):\n",
    "    def __init__(self, hidden_size_1=1000, hidden_size_2=2000):\n",
    "        super(classifier, self).__init__()\n",
    "\n",
    "        self.linear1 = nn.Linear(28 * 28, hidden_size_1)\n",
    "        self.linear2 = nn.Linear(hidden_size_1, hidden_size_2)\n",
    "        self.linear3 = nn.Linear(hidden_size_2, 5)\n",
    "\n",
    "        self.relu = nn.ReLU()\n",
    "        self.dropout = nn.Dropout(0.5)\n",
    "\n",
    "    def forward(self, img):\n",
    "        x = img.view(-1, 28 * 28)\n",
    "        x = self.relu(self.linear1(x))\n",
    "        x = self.dropout(x)\n",
    "        x = self.relu(self.linear2(x))\n",
    "        x = self.dropout(x)\n",
    "        x = self.linear3(x)\n",
    "        return x\n",
    "\n",
    "\n",
    "net = classifier().to(device)"
   ]
  },
  {
   "cell_type": "markdown",
   "metadata": {
    "cell_ktag": "WtIcOBRcHRSU"
   },
   "source": [
    "### Training and Validation"
   ]
  },
  {
   "cell_type": "code",
   "execution_count": 6,
   "metadata": {
    "cell_ktag": "WtIcOBRcHRSU"
   },
   "outputs": [],
   "source": [
    "# We set a lower learning rate when we will fine-tune on the subset of MNIST containing digits 5...9\n",
    "# so that fine-tuning don't change pre-training weights too much.\n",
    "\n",
    "\n",
    "# Since the NN is big, we add weight decay to regularize it otherwise it will overfit too much too fast\n",
    "def adjust_optimizer(name, parameters):\n",
    "    lr = 0.001\n",
    "    if name == \"subset2\":\n",
    "        lr = 0.00001\n",
    "    return torch.optim.Adam(parameters, lr=lr, weight_decay=0.0001)\n",
    "\n",
    "\n",
    "# to do label prediction during training we use argmax on the last layer, which output a vector of 5 components\n",
    "# so y_hat will be between 0 and 4, we thus have to \"translate\" y_true so that it's in the right range\n",
    "\n",
    "\n",
    "# the name variable will be used later on to recognize on which dataset we are\n",
    "# and do the corresponding label translation, and set the good hyperparameters\n",
    "def process_labels(name, labels):\n",
    "    if \"subset2\" in name:\n",
    "        labels = labels - 5\n",
    "    return labels\n",
    "\n",
    "\n",
    "def run_epoch(loader, name, net, optimizer, cross_el, total_iterations_limit=None):\n",
    "    net.train() if optimizer else net.eval()\n",
    "\n",
    "    loss_sum = 0\n",
    "    num_iterations = 0\n",
    "\n",
    "    data_iterator = tqdm(\n",
    "        loader, desc=f\"Training\" if optimizer else f\"Validation\")\n",
    "    if total_iterations_limit is not None:\n",
    "        data_iterator.total = total_iterations_limit\n",
    "\n",
    "    for data in data_iterator:\n",
    "        num_iterations += 1\n",
    "        x, y = data\n",
    "        x, y = x.to(device), y.to(device)\n",
    "        x = x.view(-1, 28 * 28)\n",
    "        optimizer.zero_grad() if optimizer else None\n",
    "        output = net(x)\n",
    "        loss = cross_el(output, process_labels(name, y))\n",
    "        loss_sum += loss.item()\n",
    "        avg_loss = loss_sum / num_iterations\n",
    "        data_iterator.set_postfix(loss=avg_loss)\n",
    "        if optimizer:\n",
    "            loss.backward()\n",
    "            optimizer.step()\n",
    "\n",
    "    return loss_sum / len(data_iterator)\n",
    "\n",
    "\n",
    "def train(train_loader, val_loader, name, net, epochs=5, total_iterations_limit=None):\n",
    "    cross_el = nn.CrossEntropyLoss()\n",
    "    optimizer = adjust_optimizer(name, net.parameters())\n",
    "\n",
    "    total_iterations = 0\n",
    "    train_loss_lst, val_loss_lst = [], []\n",
    "\n",
    "    for epoch in range(epochs):\n",
    "        train_loss = run_epoch(\n",
    "            train_loader, name, net, optimizer, cross_el, total_iterations_limit\n",
    "        )\n",
    "        print(f\"Epoch [{epoch+1}/{epochs}] Train Loss: {train_loss}\")\n",
    "        train_loss_lst.append(train_loss)\n",
    "\n",
    "        val_loss = run_epoch(\n",
    "            val_loader, name, net, None, cross_el, total_iterations_limit\n",
    "        )\n",
    "        print(f\"Epoch [{epoch+1}/{epochs}] Validation Loss: {val_loss}\")\n",
    "        val_loss_lst.append(val_loss)\n",
    "\n",
    "    return train_loss_lst, val_loss_lst"
   ]
  },
  {
   "cell_type": "code",
   "execution_count": 7,
   "metadata": {
    "cell_ktag": "WtIcOBRcHRSU"
   },
   "outputs": [],
   "source": [
    "def plot_losses(train_loss_lst, val_loss_lst):\n",
    "    plt.plot(train_loss_lst, label=\"train\")\n",
    "    plt.plot(val_loss_lst, label=\"val\")\n",
    "    plt.legend()"
   ]
  },
  {
   "cell_type": "code",
   "execution_count": null,
   "id": "5d2067c6",
   "metadata": {
    "cell_ktag": "WtIcOBRcHRSU"
   },
   "outputs": [],
   "source": [
    "# Optional if already run\n",
    " \n",
    "train_loss_lst, val_loss_lst = train(\n",
    "    train_loader, val_loader, \"subset1\", net, epochs=30)\n",
    "\n",
    "plot_losses(train_loss_lst, val_loss_lst)\n",
    "\n",
    "torch.save(net, path_model)\n",
    "torch.save(net.state_dict(), path_state_dic)"
   ]
  },
  {
   "cell_type": "markdown",
   "metadata": {
    "cell_ktag": "WtIcOBRcHRSU"
   },
   "source": [
    "### Weights"
   ]
  },
  {
   "cell_type": "code",
   "execution_count": 8,
   "id": "ddb14301",
   "metadata": {},
   "outputs": [],
   "source": [
    "net = torch.load(path_model).to(device)"
   ]
  },
  {
   "cell_type": "code",
   "execution_count": 9,
   "metadata": {
    "cell_ktag": "WtIcOBRcHRSU"
   },
   "outputs": [
    {
     "data": {
      "text/plain": [
       "tensor([[0.0213, 0.0210, 0.0289,  ..., 0.0252, 0.0241, 0.0247],\n",
       "        [0.0121, 0.0117, 0.0100,  ..., 0.0099, 0.0122, 0.0118],\n",
       "        [0.0117, 0.0116, 0.0114,  ..., 0.0120, 0.0122, 0.0111],\n",
       "        ...,\n",
       "        [0.0246, 0.0246, 0.0246,  ..., 0.0246, 0.0246, 0.0246],\n",
       "        [0.0278, 0.0217, 0.0207,  ..., 0.0196, 0.0253, 0.0254],\n",
       "        [0.0263, 0.0281, 0.0205,  ..., 0.0281, 0.0176, 0.0231]],\n",
       "       device='cuda:0')"
      ]
     },
     "execution_count": 9,
     "metadata": {},
     "output_type": "execute_result"
    }
   ],
   "source": [
    "original_weights = {}\n",
    "for name, param in net.named_parameters():\n",
    "    original_weights[name] = param.clone().detach()\n",
    "\n",
    "# original_weights\n",
    "original_weights[\"linear1.weight\"]"
   ]
  },
  {
   "cell_type": "code",
   "execution_count": 10,
   "metadata": {
    "cell_ktag": "WtIcOBRcHRSU"
   },
   "outputs": [
    {
     "name": "stdout",
     "output_type": "stream",
     "text": [
      "Layer 1: W: torch.Size([1000, 784]) + B: torch.Size([1000])\n",
      "Layer 2: W: torch.Size([2000, 1000]) + B: torch.Size([2000])\n",
      "Layer 3: W: torch.Size([5, 2000]) + B: torch.Size([5])\n",
      "Total number of parameters: 2,797,005\n"
     ]
    }
   ],
   "source": [
    "net.eval()\n",
    "total_parameters_original = 0\n",
    "for index, layer in enumerate([net.linear1, net.linear2, net.linear3]):\n",
    "    total_parameters_original += layer.weight.nelement() + layer.bias.nelement()\n",
    "    print(f'Layer {index+1}: W: {layer.weight.shape} + B: {layer.bias.shape}')\n",
    "print(f'Total number of parameters: {total_parameters_original:,}')"
   ]
  },
  {
   "cell_type": "markdown",
   "metadata": {
    "cell_ktag": "WtIcOBRcHRSU"
   },
   "source": [
    "### Test"
   ]
  },
  {
   "cell_type": "code",
   "execution_count": 12,
   "id": "9f9d46b7",
   "metadata": {},
   "outputs": [],
   "source": [
    "net = torch.load(path_model).to(device)"
   ]
  },
  {
   "cell_type": "code",
   "execution_count": 14,
   "metadata": {
    "cell_ktag": "WtIcOBRcHRSU"
   },
   "outputs": [
    {
     "name": "stderr",
     "output_type": "stream",
     "text": [
      "Testing: 100%|██████████| 41/41 [00:02<00:00, 18.07it/s]"
     ]
    },
    {
     "name": "stdout",
     "output_type": "stream",
     "text": [
      "Accuracy: 0.994\n",
      "Wrong counts for the digit 0: 5\n",
      "Wrong counts for the digit 1: 3\n",
      "Wrong counts for the digit 2: 13\n",
      "Wrong counts for the digit 3: 1\n",
      "Wrong counts for the digit 4: 9\n"
     ]
    },
    {
     "name": "stderr",
     "output_type": "stream",
     "text": [
      "\n"
     ]
    },
    {
     "data": {
      "text/plain": [
       "0.994"
      ]
     },
     "execution_count": 14,
     "metadata": {},
     "output_type": "execute_result"
    }
   ],
   "source": [
    "def test(loader, name, net, wrong_counts):\n",
    "    correct = 0\n",
    "    total = 0\n",
    "\n",
    "    net.eval()\n",
    "    with torch.no_grad():\n",
    "        for data in tqdm(loader, desc=name):\n",
    "            x, y = data\n",
    "            x = x.to(device)\n",
    "            y = y.to(device)\n",
    "            y = process_labels(name, y)\n",
    "            output = net(x.view(-1, 784))\n",
    "            for idx, i in enumerate(output):\n",
    "                if torch.argmax(i) == y[idx]:\n",
    "                    correct += 1\n",
    "                else:\n",
    "                    wrong_digit = y[idx].item() + \\\n",
    "                        5 if 'subset2' in name else y[idx].item()\n",
    "                    wrong_counts[wrong_digit] += 1\n",
    "\n",
    "                total += 1\n",
    "\n",
    "    accuracy = round(correct / total, 3)\n",
    "    print(f'Accuracy: {accuracy}')\n",
    "    for key, value in wrong_counts.items():\n",
    "        print(f'Wrong counts for the digit {key}: {value}')\n",
    "\n",
    "    return accuracy\n",
    "\n",
    "\n",
    "test(test_loader, \"Testing\", net, {i: 0 for i in range(5)})"
   ]
  },
  {
   "cell_type": "markdown",
   "metadata": {
    "cell_ktag": "WtIcOBRcHRSU"
   },
   "source": [
    "# MNIST Dataset 5 to 9"
   ]
  },
  {
   "cell_type": "code",
   "execution_count": 71,
   "metadata": {
    "cell_ktag": "WtIcOBRcHRSU"
   },
   "outputs": [],
   "source": [
    "class_names_subset2 = [5, 6, 7, 8, 9]\n",
    "train_mask_subset2 = torch.tensor(\n",
    "    [label in class_names_subset2 for label in mnist_train.targets])\n",
    "test_mask_subset2 = torch.tensor(\n",
    "    [label in class_names_subset2 for label in mnist_test.targets])\n",
    "\n",
    "train_dataset_subset2 = Subset(mnist_train, torch.where(train_mask_subset2)[0])\n",
    "test_dataset_subset2 = Subset(mnist_test, torch.where(test_mask_subset2)[0])\n",
    "\n",
    "train_size_subset2 = int(0.7 * len(train_dataset_subset2))\n",
    "val_size_subset2 = len(train_dataset_subset2) - train_size_subset2\n",
    "train_dataset_subset2, val_dataset_subset2 = random_split(\n",
    "    train_dataset_subset2, [train_size_subset2, val_size_subset2])\n",
    "\n",
    "train_loader_subset2 = DataLoader(\n",
    "    train_dataset_subset2, batch_size=batch_size, shuffle=True)\n",
    "val_loader_subset2 = DataLoader(\n",
    "    val_dataset_subset2, batch_size=batch_size, shuffle=False)\n",
    "test_loader_subset2 = DataLoader(\n",
    "    test_dataset_subset2, batch_size=batch_size, shuffle=False)"
   ]
  },
  {
   "cell_type": "markdown",
   "metadata": {
    "cell_ktag": "WtIcOBRcHRSU"
   },
   "source": [
    "### No fine-tuning"
   ]
  },
  {
   "cell_type": "code",
   "execution_count": 72,
   "id": "b4b7c232",
   "metadata": {},
   "outputs": [],
   "source": [
    "net = torch.load(path_model).to(device)"
   ]
  },
  {
   "cell_type": "code",
   "execution_count": 73,
   "metadata": {
    "cell_ktag": "WtIcOBRcHRSU"
   },
   "outputs": [
    {
     "name": "stderr",
     "output_type": "stream",
     "text": [
      "Testing_subset2: 100%|██████████| 38/38 [00:02<00:00, 16.29it/s]"
     ]
    },
    {
     "name": "stdout",
     "output_type": "stream",
     "text": [
      "Accuracy: 0.38\n",
      "Wrong counts for the digit 5: 772\n",
      "Wrong counts for the digit 6: 923\n",
      "Wrong counts for the digit 7: 819\n",
      "Wrong counts for the digit 8: 303\n",
      "Wrong counts for the digit 9: 197\n"
     ]
    },
    {
     "name": "stderr",
     "output_type": "stream",
     "text": [
      "\n"
     ]
    },
    {
     "data": {
      "text/plain": [
       "0.38"
      ]
     },
     "execution_count": 73,
     "metadata": {},
     "output_type": "execute_result"
    }
   ],
   "source": [
    "test(test_loader_subset2, \"Testing_subset2\", net, {i: 0 for i in range(5, 10)})"
   ]
  },
  {
   "cell_type": "markdown",
   "metadata": {
    "cell_ktag": "WtIcOBRcHRSU"
   },
   "source": [
    "### Fine-tuning"
   ]
  },
  {
   "cell_type": "code",
   "execution_count": 74,
   "id": "6b5c702c",
   "metadata": {},
   "outputs": [],
   "source": [
    "net = torch.load(path_model).to(device)"
   ]
  },
  {
   "cell_type": "code",
   "execution_count": 75,
   "metadata": {
    "cell_ktag": "WtIcOBRcHRSU"
   },
   "outputs": [
    {
     "name": "stderr",
     "output_type": "stream",
     "text": [
      "Training: 100%|██████████| 161/161 [00:07<00:00, 22.46it/s, loss=5.33]\n"
     ]
    },
    {
     "name": "stdout",
     "output_type": "stream",
     "text": [
      "Epoch [1/10] Train Loss: 5.325904662564675\n"
     ]
    },
    {
     "name": "stderr",
     "output_type": "stream",
     "text": [
      "Validation: 100%|██████████| 69/69 [00:03<00:00, 21.54it/s, loss=3.77]\n"
     ]
    },
    {
     "name": "stdout",
     "output_type": "stream",
     "text": [
      "Epoch [1/10] Validation Loss: 3.7703744812288145\n"
     ]
    },
    {
     "name": "stderr",
     "output_type": "stream",
     "text": [
      "Training: 100%|██████████| 161/161 [00:08<00:00, 19.53it/s, loss=3.37]\n"
     ]
    },
    {
     "name": "stdout",
     "output_type": "stream",
     "text": [
      "Epoch [2/10] Train Loss: 3.3686915665679837\n"
     ]
    },
    {
     "name": "stderr",
     "output_type": "stream",
     "text": [
      "Validation: 100%|██████████| 69/69 [00:02<00:00, 23.14it/s, loss=2.22]\n"
     ]
    },
    {
     "name": "stdout",
     "output_type": "stream",
     "text": [
      "Epoch [2/10] Validation Loss: 2.2170391272807466\n"
     ]
    },
    {
     "name": "stderr",
     "output_type": "stream",
     "text": [
      "Training: 100%|██████████| 161/161 [00:06<00:00, 23.67it/s, loss=2.08]\n"
     ]
    },
    {
     "name": "stdout",
     "output_type": "stream",
     "text": [
      "Epoch [3/10] Train Loss: 2.0797348814721435\n"
     ]
    },
    {
     "name": "stderr",
     "output_type": "stream",
     "text": [
      "Validation: 100%|██████████| 69/69 [00:03<00:00, 20.73it/s, loss=1.32]\n"
     ]
    },
    {
     "name": "stdout",
     "output_type": "stream",
     "text": [
      "Epoch [3/10] Validation Loss: 1.3243733748145725\n"
     ]
    },
    {
     "name": "stderr",
     "output_type": "stream",
     "text": [
      "Training: 100%|██████████| 161/161 [00:07<00:00, 21.24it/s, loss=1.33]\n"
     ]
    },
    {
     "name": "stdout",
     "output_type": "stream",
     "text": [
      "Epoch [4/10] Train Loss: 1.326691276538446\n"
     ]
    },
    {
     "name": "stderr",
     "output_type": "stream",
     "text": [
      "Validation: 100%|██████████| 69/69 [00:03<00:00, 21.41it/s, loss=0.791]\n"
     ]
    },
    {
     "name": "stdout",
     "output_type": "stream",
     "text": [
      "Epoch [4/10] Validation Loss: 0.7912007095157236\n"
     ]
    },
    {
     "name": "stderr",
     "output_type": "stream",
     "text": [
      "Training: 100%|██████████| 161/161 [00:07<00:00, 20.81it/s, loss=0.895]\n"
     ]
    },
    {
     "name": "stdout",
     "output_type": "stream",
     "text": [
      "Epoch [5/10] Train Loss: 0.8952737241428091\n"
     ]
    },
    {
     "name": "stderr",
     "output_type": "stream",
     "text": [
      "Validation: 100%|██████████| 69/69 [00:03<00:00, 21.73it/s, loss=0.547]\n"
     ]
    },
    {
     "name": "stdout",
     "output_type": "stream",
     "text": [
      "Epoch [5/10] Validation Loss: 0.5473550946816154\n"
     ]
    },
    {
     "name": "stderr",
     "output_type": "stream",
     "text": [
      "Training: 100%|██████████| 161/161 [00:07<00:00, 21.84it/s, loss=0.671]\n"
     ]
    },
    {
     "name": "stdout",
     "output_type": "stream",
     "text": [
      "Epoch [6/10] Train Loss: 0.67145230792324\n"
     ]
    },
    {
     "name": "stderr",
     "output_type": "stream",
     "text": [
      "Validation: 100%|██████████| 69/69 [00:02<00:00, 27.39it/s, loss=0.432]\n"
     ]
    },
    {
     "name": "stdout",
     "output_type": "stream",
     "text": [
      "Epoch [6/10] Validation Loss: 0.431628267834152\n"
     ]
    },
    {
     "name": "stderr",
     "output_type": "stream",
     "text": [
      "Training: 100%|██████████| 161/161 [00:07<00:00, 20.14it/s, loss=0.542]\n"
     ]
    },
    {
     "name": "stdout",
     "output_type": "stream",
     "text": [
      "Epoch [7/10] Train Loss: 0.5423327773254111\n"
     ]
    },
    {
     "name": "stderr",
     "output_type": "stream",
     "text": [
      "Validation: 100%|██████████| 69/69 [00:03<00:00, 21.82it/s, loss=0.359]\n"
     ]
    },
    {
     "name": "stdout",
     "output_type": "stream",
     "text": [
      "Epoch [7/10] Validation Loss: 0.35881181471589685\n"
     ]
    },
    {
     "name": "stderr",
     "output_type": "stream",
     "text": [
      "Training: 100%|██████████| 161/161 [00:06<00:00, 24.89it/s, loss=0.455]\n"
     ]
    },
    {
     "name": "stdout",
     "output_type": "stream",
     "text": [
      "Epoch [8/10] Train Loss: 0.4550158949742406\n"
     ]
    },
    {
     "name": "stderr",
     "output_type": "stream",
     "text": [
      "Validation: 100%|██████████| 69/69 [00:02<00:00, 24.40it/s, loss=0.307]\n"
     ]
    },
    {
     "name": "stdout",
     "output_type": "stream",
     "text": [
      "Epoch [8/10] Validation Loss: 0.30745785370253137\n"
     ]
    },
    {
     "name": "stderr",
     "output_type": "stream",
     "text": [
      "Training: 100%|██████████| 161/161 [00:06<00:00, 25.09it/s, loss=0.404]\n"
     ]
    },
    {
     "name": "stdout",
     "output_type": "stream",
     "text": [
      "Epoch [9/10] Train Loss: 0.4036669418308305\n"
     ]
    },
    {
     "name": "stderr",
     "output_type": "stream",
     "text": [
      "Validation: 100%|██████████| 69/69 [00:02<00:00, 24.79it/s, loss=0.269]\n"
     ]
    },
    {
     "name": "stdout",
     "output_type": "stream",
     "text": [
      "Epoch [9/10] Validation Loss: 0.26871094690716785\n"
     ]
    },
    {
     "name": "stderr",
     "output_type": "stream",
     "text": [
      "Training: 100%|██████████| 161/161 [00:07<00:00, 21.70it/s, loss=0.372]\n"
     ]
    },
    {
     "name": "stdout",
     "output_type": "stream",
     "text": [
      "Epoch [10/10] Train Loss: 0.37204420807198707\n"
     ]
    },
    {
     "name": "stderr",
     "output_type": "stream",
     "text": [
      "Validation: 100%|██████████| 69/69 [00:03<00:00, 18.99it/s, loss=0.241]"
     ]
    },
    {
     "name": "stdout",
     "output_type": "stream",
     "text": [
      "Epoch [10/10] Validation Loss: 0.24050449342399405\n"
     ]
    },
    {
     "name": "stderr",
     "output_type": "stream",
     "text": [
      "\n"
     ]
    }
   ],
   "source": [
    "train_loss_lst, val_loss_lst = train(\n",
    "    train_loader_subset2, val_loader_subset2, \"subset2\", net, epochs=10)"
   ]
  },
  {
   "cell_type": "code",
   "execution_count": 76,
   "metadata": {
    "cell_ktag": "WtIcOBRcHRSU"
   },
   "outputs": [
    {
     "data": {
      "image/png": "[encoded data removed]",
      "text/plain": [
       "<Figure size 640x480 with 1 Axes>"
      ]
     },
     "metadata": {},
     "output_type": "display_data"
    }
   ],
   "source": [
    "plot_losses(train_loss_lst, val_loss_lst)"
   ]
  },
  {
   "cell_type": "code",
   "execution_count": 77,
   "metadata": {
    "cell_ktag": "WtIcOBRcHRSU"
   },
   "outputs": [
    {
     "name": "stderr",
     "output_type": "stream",
     "text": [
      "Testing_subset2: 100%|██████████| 38/38 [00:02<00:00, 16.25it/s]"
     ]
    },
    {
     "name": "stdout",
     "output_type": "stream",
     "text": [
      "Accuracy: 0.926\n",
      "Wrong counts for the digit 5: 69\n",
      "Wrong counts for the digit 6: 47\n",
      "Wrong counts for the digit 7: 81\n",
      "Wrong counts for the digit 8: 91\n",
      "Wrong counts for the digit 9: 72\n"
     ]
    },
    {
     "name": "stderr",
     "output_type": "stream",
     "text": [
      "\n"
     ]
    }
   ],
   "source": [
    "accuracy_fine_tuning = test(\n",
    "    test_loader_subset2, \"Testing_subset2\", net, {i: 0 for i in range(5, 10)}\n",
    ")"
   ]
  },
  {
   "cell_type": "markdown",
   "metadata": {
    "cell_ktag": "WtIcOBRcHRSU"
   },
   "source": [
    "### Fine-tuning with LoRA"
   ]
  },
  {
   "cell_type": "markdown",
   "id": "7d493bb3",
   "metadata": {},
   "source": [
    "##### Modified Classifier"
   ]
  },
  {
   "cell_type": "code",
   "execution_count": 64,
   "metadata": {
    "cell_ktag": "WtIcOBRcHRSU"
   },
   "outputs": [
    {
     "data": {
      "text/plain": [
       "ModifiedClassifier(\n",
       "  (pretrained_net): classifier(\n",
       "    (linear1): Linear(in_features=784, out_features=1000, bias=True)\n",
       "    (linear2): Linear(in_features=1000, out_features=2000, bias=True)\n",
       "    (linear3): Linear(in_features=2000, out_features=5, bias=True)\n",
       "    (relu): ReLU()\n",
       "    (dropout): Dropout(p=0.5, inplace=False)\n",
       "  )\n",
       "  (relu): ReLU()\n",
       "  (dropout): Dropout(p=0.5, inplace=False)\n",
       ")"
      ]
     },
     "execution_count": 64,
     "metadata": {},
     "output_type": "execute_result"
    }
   ],
   "source": [
    "class ModifiedClassifier(nn.Module):\n",
    "    def __init__(self, lora_rank):\n",
    "        super(ModifiedClassifier, self).__init__()\n",
    "\n",
    "        # Load the pretrained model\n",
    "        self.pretrained_net = classifier().to(device)\n",
    "        self.pretrained_net.load_state_dict(torch.load(path_state_dic))\n",
    "\n",
    "        self.relu = nn.ReLU()\n",
    "        self.dropout = nn.Dropout(0.5)\n",
    "\n",
    "        # Define lora hyperparameters\n",
    "        self.lora_rank = lora_rank\n",
    "\n",
    "        # Define lora weights matrices for each layer in pretrained model\n",
    "        self.l1_lora_A = nn.Parameter(\n",
    "            torch.empty(self.pretrained_net.linear1.in_features,\n",
    "                        self.lora_rank)\n",
    "        )\n",
    "        self.l1_lora_B = nn.Parameter(\n",
    "            torch.empty(self.lora_rank,\n",
    "                        self.pretrained_net.linear1.out_features)\n",
    "        )\n",
    "\n",
    "        self.l2_lora_A = nn.Parameter(\n",
    "            torch.empty(self.pretrained_net.linear2.in_features,\n",
    "                        self.lora_rank)\n",
    "        )\n",
    "        self.l2_lora_B = nn.Parameter(\n",
    "            torch.empty(self.lora_rank,\n",
    "                        self.pretrained_net.linear2.out_features)\n",
    "        )\n",
    "\n",
    "        self.l3_lora_A = nn.Parameter(\n",
    "            torch.empty(self.pretrained_net.linear3.in_features,\n",
    "                        self.lora_rank)\n",
    "        )\n",
    "        self.l3_lora_B = nn.Parameter(\n",
    "            torch.empty(self.lora_rank,\n",
    "                        self.pretrained_net.linear3.out_features)\n",
    "        )\n",
    "\n",
    "        # Initialization for lora layers\n",
    "\n",
    "        # A_init = nn.init.normal_\n",
    "        # A_init(self.l1_lora_A, std=math.sqrt(1/self.lora_rank))\n",
    "        # A_init(self.l2_lora_A, std=math.sqrt(1/self.lora_rank))\n",
    "        # A_init(self.l3_lora_A, std=math.sqrt(1/self.lora_rank))\n",
    "\n",
    "        A_init = nn.init.normal_\n",
    "        A_init(self.l1_lora_A)\n",
    "        A_init(self.l2_lora_A)\n",
    "        A_init(self.l3_lora_A)\n",
    "        \n",
    "        # nn.init.kaiming_uniform_(self.l1_lora_A, a=math.sqrt(5))\n",
    "        # nn.init.kaiming_uniform_(self.l2_lora_A, a=math.sqrt(5))            \n",
    "        # nn.init.kaiming_uniform_(self.l3_lora_A, a=math.sqrt(5))\n",
    "\n",
    "        B_init = nn.init.zeros_\n",
    "        B_init(self.l1_lora_B)\n",
    "        B_init(self.l2_lora_B)\n",
    "        B_init(self.l3_lora_B)\n",
    "\n",
    "        # Freeze non lora weights\n",
    "        self.pretrained_net.linear1.weight.requires_grad = False\n",
    "        self.pretrained_net.linear1.bias.requires_grad = False\n",
    "        self.pretrained_net.linear2.weight.requires_grad = False\n",
    "        self.pretrained_net.linear2.bias.requires_grad = False\n",
    "        self.pretrained_net.linear3.weight.requires_grad = False\n",
    "        self.pretrained_net.linear3.bias.requires_grad = False\n",
    "\n",
    "        # for param in self.pretrained_net.parameters():\n",
    "        #   param.requires_grad = False\n",
    "\n",
    "    def lora_linear(self, x, layer, lora_A, lora_B):\n",
    "        # h = x @ layer.weight.transpose(0, 1)\n",
    "        h = layer(x)\n",
    "        h += x @ lora_A @ lora_B # * 1/self.lora_rank\n",
    "        return h\n",
    "\n",
    "    def forward(self, input):\n",
    "        \"\"\"Mimics the classifier model replacing linear layer by lora layers\"\"\"\n",
    "        x = input.view(-1, 28 * 28)\n",
    "\n",
    "        x = self.lora_linear(\n",
    "            x, self.pretrained_net.linear1, self.l1_lora_A, self.l1_lora_B\n",
    "        )\n",
    "        x = self.relu(x)\n",
    "        x = self.dropout(x)\n",
    "\n",
    "        x = self.lora_linear(\n",
    "            x, self.pretrained_net.linear2, self.l2_lora_A, self.l2_lora_B\n",
    "        )\n",
    "        x = self.relu(x)\n",
    "        x = self.dropout(x)\n",
    "\n",
    "        x = self.lora_linear(\n",
    "            x, self.pretrained_net.linear3, self.l3_lora_A, self.l3_lora_B\n",
    "        )\n",
    "\n",
    "        return x\n",
    "\n",
    "\n",
    "lora_rank = 1\n",
    "modified_net = ModifiedClassifier(lora_rank).to(device)\n",
    "modified_net"
   ]
  },
  {
   "cell_type": "markdown",
   "metadata": {
    "cell_ktag": "WtIcOBRcHRSU"
   },
   "source": [
    "##### Parameters"
   ]
  },
  {
   "cell_type": "code",
   "execution_count": 65,
   "metadata": {
    "cell_ktag": "WtIcOBRcHRSU"
   },
   "outputs": [
    {
     "data": {
      "text/plain": [
       "434496"
      ]
     },
     "execution_count": 65,
     "metadata": {},
     "output_type": "execute_result"
    }
   ],
   "source": [
    "def count_lora_param(model):\n",
    "    param_c = 0\n",
    "\n",
    "    lora_param_names = [f\"l{i}_lora_{mat}\" for i in range(1, 4) for mat in [\"A\", \"B\"]]\n",
    "\n",
    "    for name, param in model.named_parameters():\n",
    "        if name in lora_param_names:\n",
    "            param_c += torch.numel(param)\n",
    "\n",
    "    return param_c\n",
    "\n",
    "count_lora_param(modified_net)"
   ]
  },
  {
   "cell_type": "markdown",
   "metadata": {
    "cell_ktag": "WtIcOBRcHRSU"
   },
   "source": [
    "##### Fine-Tuning with LoRA rank 1"
   ]
  },
  {
   "cell_type": "code",
   "execution_count": 60,
   "metadata": {
    "cell_ktag": "WtIcOBRcHRSU"
   },
   "outputs": [
    {
     "name": "stdout",
     "output_type": "stream",
     "text": [
      "LoRA rank: 64\n"
     ]
    },
    {
     "name": "stderr",
     "output_type": "stream",
     "text": [
      "Training: 100%|██████████| 161/161 [00:12<00:00, 12.80it/s, loss=3.79]\n"
     ]
    },
    {
     "name": "stdout",
     "output_type": "stream",
     "text": [
      "Epoch [1/10] Train Loss: 3.7872068741306757\n"
     ]
    },
    {
     "name": "stderr",
     "output_type": "stream",
     "text": [
      "Validation: 100%|██████████| 69/69 [00:03<00:00, 19.81it/s, loss=1.47]\n"
     ]
    },
    {
     "name": "stdout",
     "output_type": "stream",
     "text": [
      "Epoch [1/10] Validation Loss: 1.4697071158367654\n"
     ]
    },
    {
     "name": "stderr",
     "output_type": "stream",
     "text": [
      "Training: 100%|██████████| 161/161 [00:07<00:00, 21.91it/s, loss=1.24]\n"
     ]
    },
    {
     "name": "stdout",
     "output_type": "stream",
     "text": [
      "Epoch [2/10] Train Loss: 1.2356829091628887\n"
     ]
    },
    {
     "name": "stderr",
     "output_type": "stream",
     "text": [
      "Validation: 100%|██████████| 69/69 [00:03<00:00, 20.31it/s, loss=0.52] \n"
     ]
    },
    {
     "name": "stdout",
     "output_type": "stream",
     "text": [
      "Epoch [2/10] Validation Loss: 0.5195662504520969\n"
     ]
    },
    {
     "name": "stderr",
     "output_type": "stream",
     "text": [
      "Training: 100%|██████████| 161/161 [00:07<00:00, 22.83it/s, loss=0.656]\n"
     ]
    },
    {
     "name": "stdout",
     "output_type": "stream",
     "text": [
      "Epoch [3/10] Train Loss: 0.6560387905710232\n"
     ]
    },
    {
     "name": "stderr",
     "output_type": "stream",
     "text": [
      "Validation: 100%|██████████| 69/69 [00:03<00:00, 20.10it/s, loss=0.326]\n"
     ]
    },
    {
     "name": "stdout",
     "output_type": "stream",
     "text": [
      "Epoch [3/10] Validation Loss: 0.3263689942549968\n"
     ]
    },
    {
     "name": "stderr",
     "output_type": "stream",
     "text": [
      "Training: 100%|██████████| 161/161 [00:05<00:00, 27.76it/s, loss=0.468]\n"
     ]
    },
    {
     "name": "stdout",
     "output_type": "stream",
     "text": [
      "Epoch [4/10] Train Loss: 0.46804268297201357\n"
     ]
    },
    {
     "name": "stderr",
     "output_type": "stream",
     "text": [
      "Validation: 100%|██████████| 69/69 [00:02<00:00, 29.16it/s, loss=0.247]\n"
     ]
    },
    {
     "name": "stdout",
     "output_type": "stream",
     "text": [
      "Epoch [4/10] Validation Loss: 0.24699907955052197\n"
     ]
    },
    {
     "name": "stderr",
     "output_type": "stream",
     "text": [
      "Training: 100%|██████████| 161/161 [00:06<00:00, 26.44it/s, loss=0.375]\n"
     ]
    },
    {
     "name": "stdout",
     "output_type": "stream",
     "text": [
      "Epoch [5/10] Train Loss: 0.3746408797013834\n"
     ]
    },
    {
     "name": "stderr",
     "output_type": "stream",
     "text": [
      "Validation: 100%|██████████| 69/69 [00:02<00:00, 28.47it/s, loss=0.207]\n"
     ]
    },
    {
     "name": "stdout",
     "output_type": "stream",
     "text": [
      "Epoch [5/10] Validation Loss: 0.20730855143156604\n"
     ]
    },
    {
     "name": "stderr",
     "output_type": "stream",
     "text": [
      "Training: 100%|██████████| 161/161 [00:05<00:00, 26.96it/s, loss=0.313]\n"
     ]
    },
    {
     "name": "stdout",
     "output_type": "stream",
     "text": [
      "Epoch [6/10] Train Loss: 0.3126354731665635\n"
     ]
    },
    {
     "name": "stderr",
     "output_type": "stream",
     "text": [
      "Validation: 100%|██████████| 69/69 [00:02<00:00, 30.56it/s, loss=0.18] \n"
     ]
    },
    {
     "name": "stdout",
     "output_type": "stream",
     "text": [
      "Epoch [6/10] Validation Loss: 0.18034242071967194\n"
     ]
    },
    {
     "name": "stderr",
     "output_type": "stream",
     "text": [
      "Training: 100%|██████████| 161/161 [00:05<00:00, 27.14it/s, loss=0.282]\n"
     ]
    },
    {
     "name": "stdout",
     "output_type": "stream",
     "text": [
      "Epoch [7/10] Train Loss: 0.2820930921513101\n"
     ]
    },
    {
     "name": "stderr",
     "output_type": "stream",
     "text": [
      "Validation: 100%|██████████| 69/69 [00:02<00:00, 28.51it/s, loss=0.163]\n"
     ]
    },
    {
     "name": "stdout",
     "output_type": "stream",
     "text": [
      "Epoch [7/10] Validation Loss: 0.16276252950015274\n"
     ]
    },
    {
     "name": "stderr",
     "output_type": "stream",
     "text": [
      "Training: 100%|██████████| 161/161 [00:05<00:00, 27.30it/s, loss=0.258]\n"
     ]
    },
    {
     "name": "stdout",
     "output_type": "stream",
     "text": [
      "Epoch [8/10] Train Loss: 0.25834528245725985\n"
     ]
    },
    {
     "name": "stderr",
     "output_type": "stream",
     "text": [
      "Validation: 100%|██████████| 69/69 [00:02<00:00, 28.83it/s, loss=0.149]\n"
     ]
    },
    {
     "name": "stdout",
     "output_type": "stream",
     "text": [
      "Epoch [8/10] Validation Loss: 0.14934614257536072\n"
     ]
    },
    {
     "name": "stderr",
     "output_type": "stream",
     "text": [
      "Training: 100%|██████████| 161/161 [00:09<00:00, 17.44it/s, loss=0.236]\n"
     ]
    },
    {
     "name": "stdout",
     "output_type": "stream",
     "text": [
      "Epoch [9/10] Train Loss: 0.23622886896688747\n"
     ]
    },
    {
     "name": "stderr",
     "output_type": "stream",
     "text": [
      "Validation: 100%|██████████| 69/69 [00:03<00:00, 21.45it/s, loss=0.138]\n"
     ]
    },
    {
     "name": "stdout",
     "output_type": "stream",
     "text": [
      "Epoch [9/10] Validation Loss: 0.13805402205258177\n"
     ]
    },
    {
     "name": "stderr",
     "output_type": "stream",
     "text": [
      "Training: 100%|██████████| 161/161 [00:10<00:00, 14.98it/s, loss=0.214]\n"
     ]
    },
    {
     "name": "stdout",
     "output_type": "stream",
     "text": [
      "Epoch [10/10] Train Loss: 0.2143319354664465\n"
     ]
    },
    {
     "name": "stderr",
     "output_type": "stream",
     "text": [
      "Validation: 100%|██████████| 69/69 [00:04<00:00, 16.12it/s, loss=0.131]"
     ]
    },
    {
     "name": "stdout",
     "output_type": "stream",
     "text": [
      "Epoch [10/10] Validation Loss: 0.1309068086354629\n"
     ]
    },
    {
     "name": "stderr",
     "output_type": "stream",
     "text": [
      "\n"
     ]
    }
   ],
   "source": [
    "print(f\"LoRA rank: {modified_net.lora_rank}\")\n",
    "\n",
    "train_loss_lst, val_loss_lst = train(\n",
    "    train_loader_subset2, val_loader_subset2, \"subset2\", modified_net, epochs=10\n",
    ")"
   ]
  },
  {
   "cell_type": "code",
   "execution_count": 61,
   "id": "b905ab65",
   "metadata": {
    "cell_ktag": "WtIcOBRcHRSU"
   },
   "outputs": [],
   "source": [
    "# Check that the frozen parameters are still unchanged by the finetuning\n",
    "\n",
    "lora_fixed_weights = {}\n",
    "for name, param in modified_net.pretrained_net.named_parameters():\n",
    "    lora_fixed_weights[name] = param.clone().detach()\n",
    "lora_fixed_weights[\"linear1.weight\"]\n",
    "\n",
    "\n",
    "for net_param, lora_fixed_param in zip(original_weights.values(), lora_fixed_weights.values()):\n",
    "    assert np.array(net_param.detach().cpu()).sum() == np.array(lora_fixed_param.detach().cpu()).sum()\n",
    "\n",
    "for name in original_weights.keys():\n",
    "  assert original_weights[name].equal(lora_fixed_weights[name])"
   ]
  },
  {
   "cell_type": "code",
   "execution_count": 62,
   "id": "1c11f557",
   "metadata": {},
   "outputs": [
    {
     "data": {
      "image/png": "[encoded data removed]",
      "text/plain": [
       "<Figure size 640x480 with 1 Axes>"
      ]
     },
     "metadata": {},
     "output_type": "display_data"
    }
   ],
   "source": [
    "plot_losses(train_loss_lst, val_loss_lst)"
   ]
  },
  {
   "cell_type": "code",
   "execution_count": 63,
   "metadata": {
    "cell_ktag": "WtIcOBRcHRSU"
   },
   "outputs": [
    {
     "name": "stderr",
     "output_type": "stream",
     "text": [
      "Testing_subset2: 100%|██████████| 38/38 [00:01<00:00, 19.87it/s]"
     ]
    },
    {
     "name": "stdout",
     "output_type": "stream",
     "text": [
      "Accuracy: 0.957\n",
      "Wrong counts for the digit 5: 26\n",
      "Wrong counts for the digit 6: 26\n",
      "Wrong counts for the digit 7: 31\n",
      "Wrong counts for the digit 8: 70\n",
      "Wrong counts for the digit 9: 54\n"
     ]
    },
    {
     "name": "stderr",
     "output_type": "stream",
     "text": [
      "\n"
     ]
    }
   ],
   "source": [
    "accuracy_fine_tuning_lora_1 = test(\n",
    "    test_loader_subset2, \"Testing_subset2\", modified_net, {i: 0 for i in range(5, 10)}\n",
    ")\n",
    "\n",
    "# 10-EPOCH FINE-TUNING \n",
    "# Accuracy: 0.416\n",
    "# Wrong counts for the digit 5: 737\n",
    "# Wrong counts for the digit 6: 913\n",
    "# Wrong counts for the digit 7: 692\n",
    "# Wrong counts for the digit 8: 340\n",
    "# Wrong counts for the digit 9: 156"
   ]
  },
  {
   "cell_type": "markdown",
   "metadata": {
    "cell_ktag": "WtIcOBRcHRSU"
   },
   "source": [
    "##### LoRA Rank"
   ]
  },
  {
   "cell_type": "code",
   "execution_count": 68,
   "metadata": {
    "cell_ktag": "WtIcOBRcHRSU"
   },
   "outputs": [
    {
     "name": "stderr",
     "output_type": "stream",
     "text": [
      "Training:   0%|          | 0/161 [00:00<?, ?it/s]"
     ]
    },
    {
     "name": "stderr",
     "output_type": "stream",
     "text": [
      "Training: 100%|██████████| 161/161 [00:09<00:00, 17.09it/s, loss=6.64]\n"
     ]
    },
    {
     "name": "stdout",
     "output_type": "stream",
     "text": [
      "Epoch [1/10] Train Loss: 6.635475220887558\n"
     ]
    },
    {
     "name": "stderr",
     "output_type": "stream",
     "text": [
      "Validation: 100%|██████████| 69/69 [00:04<00:00, 14.42it/s, loss=5.94]\n"
     ]
    },
    {
     "name": "stdout",
     "output_type": "stream",
     "text": [
      "Epoch [1/10] Validation Loss: 5.941112615060115\n"
     ]
    },
    {
     "name": "stderr",
     "output_type": "stream",
     "text": [
      "Training: 100%|██████████| 161/161 [00:08<00:00, 18.19it/s, loss=6.56]\n"
     ]
    },
    {
     "name": "stdout",
     "output_type": "stream",
     "text": [
      "Epoch [2/10] Train Loss: 6.555254589696848\n"
     ]
    },
    {
     "name": "stderr",
     "output_type": "stream",
     "text": [
      "Validation: 100%|██████████| 69/69 [00:02<00:00, 30.08it/s, loss=5.85]\n"
     ]
    },
    {
     "name": "stdout",
     "output_type": "stream",
     "text": [
      "Epoch [2/10] Validation Loss: 5.8502177984818164\n"
     ]
    },
    {
     "name": "stderr",
     "output_type": "stream",
     "text": [
      "Training: 100%|██████████| 161/161 [00:05<00:00, 27.65it/s, loss=6.43]\n"
     ]
    },
    {
     "name": "stdout",
     "output_type": "stream",
     "text": [
      "Epoch [3/10] Train Loss: 6.430194215004488\n"
     ]
    },
    {
     "name": "stderr",
     "output_type": "stream",
     "text": [
      "Validation: 100%|██████████| 69/69 [00:02<00:00, 30.40it/s, loss=5.75]\n"
     ]
    },
    {
     "name": "stdout",
     "output_type": "stream",
     "text": [
      "Epoch [3/10] Validation Loss: 5.751780364824378\n"
     ]
    },
    {
     "name": "stderr",
     "output_type": "stream",
     "text": [
      "Training: 100%|██████████| 161/161 [00:05<00:00, 27.05it/s, loss=6.35]\n"
     ]
    },
    {
     "name": "stdout",
     "output_type": "stream",
     "text": [
      "Epoch [4/10] Train Loss: 6.350260109634873\n"
     ]
    },
    {
     "name": "stderr",
     "output_type": "stream",
     "text": [
      "Validation: 100%|██████████| 69/69 [00:02<00:00, 30.10it/s, loss=5.64]\n"
     ]
    },
    {
     "name": "stdout",
     "output_type": "stream",
     "text": [
      "Epoch [4/10] Validation Loss: 5.643589703933053\n"
     ]
    },
    {
     "name": "stderr",
     "output_type": "stream",
     "text": [
      "Training: 100%|██████████| 161/161 [00:06<00:00, 25.57it/s, loss=6.23]\n"
     ]
    },
    {
     "name": "stdout",
     "output_type": "stream",
     "text": [
      "Epoch [5/10] Train Loss: 6.230839412404884\n"
     ]
    },
    {
     "name": "stderr",
     "output_type": "stream",
     "text": [
      "Validation: 100%|██████████| 69/69 [00:02<00:00, 24.76it/s, loss=5.53]\n"
     ]
    },
    {
     "name": "stdout",
     "output_type": "stream",
     "text": [
      "Epoch [5/10] Validation Loss: 5.527536661728568\n"
     ]
    },
    {
     "name": "stderr",
     "output_type": "stream",
     "text": [
      "Training: 100%|██████████| 161/161 [00:06<00:00, 26.53it/s, loss=6.09]\n"
     ]
    },
    {
     "name": "stdout",
     "output_type": "stream",
     "text": [
      "Epoch [6/10] Train Loss: 6.091595836307691\n"
     ]
    },
    {
     "name": "stderr",
     "output_type": "stream",
     "text": [
      "Validation: 100%|██████████| 69/69 [00:02<00:00, 31.41it/s, loss=5.4] \n"
     ]
    },
    {
     "name": "stdout",
     "output_type": "stream",
     "text": [
      "Epoch [6/10] Validation Loss: 5.4034343629643535\n"
     ]
    },
    {
     "name": "stderr",
     "output_type": "stream",
     "text": [
      "Training: 100%|██████████| 161/161 [00:05<00:00, 27.05it/s, loss=5.95]\n"
     ]
    },
    {
     "name": "stdout",
     "output_type": "stream",
     "text": [
      "Epoch [7/10] Train Loss: 5.952010975120971\n"
     ]
    },
    {
     "name": "stderr",
     "output_type": "stream",
     "text": [
      "Validation: 100%|██████████| 69/69 [00:02<00:00, 28.71it/s, loss=5.27]\n"
     ]
    },
    {
     "name": "stdout",
     "output_type": "stream",
     "text": [
      "Epoch [7/10] Validation Loss: 5.270627913267716\n"
     ]
    },
    {
     "name": "stderr",
     "output_type": "stream",
     "text": [
      "Training: 100%|██████████| 161/161 [00:06<00:00, 24.25it/s, loss=5.85]\n"
     ]
    },
    {
     "name": "stdout",
     "output_type": "stream",
     "text": [
      "Epoch [8/10] Train Loss: 5.850967553831776\n"
     ]
    },
    {
     "name": "stderr",
     "output_type": "stream",
     "text": [
      "Validation: 100%|██████████| 69/69 [00:02<00:00, 30.71it/s, loss=5.13]\n"
     ]
    },
    {
     "name": "stdout",
     "output_type": "stream",
     "text": [
      "Epoch [8/10] Validation Loss: 5.128577066504437\n"
     ]
    },
    {
     "name": "stderr",
     "output_type": "stream",
     "text": [
      "Training: 100%|██████████| 161/161 [00:06<00:00, 26.34it/s, loss=5.66]\n"
     ]
    },
    {
     "name": "stdout",
     "output_type": "stream",
     "text": [
      "Epoch [9/10] Train Loss: 5.657896192917913\n"
     ]
    },
    {
     "name": "stderr",
     "output_type": "stream",
     "text": [
      "Validation: 100%|██████████| 69/69 [00:02<00:00, 26.48it/s, loss=4.98]\n"
     ]
    },
    {
     "name": "stdout",
     "output_type": "stream",
     "text": [
      "Epoch [9/10] Validation Loss: 4.983811222988626\n"
     ]
    },
    {
     "name": "stderr",
     "output_type": "stream",
     "text": [
      "Training: 100%|██████████| 161/161 [00:05<00:00, 27.24it/s, loss=5.54]\n"
     ]
    },
    {
     "name": "stdout",
     "output_type": "stream",
     "text": [
      "Epoch [10/10] Train Loss: 5.5399319414766675\n"
     ]
    },
    {
     "name": "stderr",
     "output_type": "stream",
     "text": [
      "Validation: 100%|██████████| 69/69 [00:02<00:00, 30.16it/s, loss=4.84]\n"
     ]
    },
    {
     "name": "stdout",
     "output_type": "stream",
     "text": [
      "Epoch [10/10] Validation Loss: 4.842728939609251\n"
     ]
    },
    {
     "name": "stderr",
     "output_type": "stream",
     "text": [
      "Testing_subset2: 100%|██████████| 38/38 [00:01<00:00, 19.36it/s]\n"
     ]
    },
    {
     "name": "stdout",
     "output_type": "stream",
     "text": [
      "Accuracy: 0.397\n",
      "Wrong counts for the digit 5: 645\n",
      "Wrong counts for the digit 6: 910\n",
      "Wrong counts for the digit 7: 703\n",
      "Wrong counts for the digit 8: 506\n",
      "Wrong counts for the digit 9: 166\n"
     ]
    },
    {
     "name": "stderr",
     "output_type": "stream",
     "text": [
      "Training: 100%|██████████| 161/161 [00:06<00:00, 25.83it/s, loss=6.55]\n"
     ]
    },
    {
     "name": "stdout",
     "output_type": "stream",
     "text": [
      "Epoch [1/10] Train Loss: 6.546708228425209\n"
     ]
    },
    {
     "name": "stderr",
     "output_type": "stream",
     "text": [
      "Validation: 100%|██████████| 69/69 [00:02<00:00, 30.78it/s, loss=5.84]\n"
     ]
    },
    {
     "name": "stdout",
     "output_type": "stream",
     "text": [
      "Epoch [1/10] Validation Loss: 5.8384310128032295\n"
     ]
    },
    {
     "name": "stderr",
     "output_type": "stream",
     "text": [
      "Training: 100%|██████████| 161/161 [00:06<00:00, 26.42it/s, loss=6.4] \n"
     ]
    },
    {
     "name": "stdout",
     "output_type": "stream",
     "text": [
      "Epoch [2/10] Train Loss: 6.397296834436262\n"
     ]
    },
    {
     "name": "stderr",
     "output_type": "stream",
     "text": [
      "Validation: 100%|██████████| 69/69 [00:02<00:00, 25.08it/s, loss=5.64]\n"
     ]
    },
    {
     "name": "stdout",
     "output_type": "stream",
     "text": [
      "Epoch [2/10] Validation Loss: 5.640027509219404\n"
     ]
    },
    {
     "name": "stderr",
     "output_type": "stream",
     "text": [
      "Training: 100%|██████████| 161/161 [00:06<00:00, 26.63it/s, loss=6.2] \n"
     ]
    },
    {
     "name": "stdout",
     "output_type": "stream",
     "text": [
      "Epoch [3/10] Train Loss: 6.196714344972409\n"
     ]
    },
    {
     "name": "stderr",
     "output_type": "stream",
     "text": [
      "Validation: 100%|██████████| 69/69 [00:02<00:00, 27.87it/s, loss=5.41]\n"
     ]
    },
    {
     "name": "stdout",
     "output_type": "stream",
     "text": [
      "Epoch [3/10] Validation Loss: 5.411660256593124\n"
     ]
    },
    {
     "name": "stderr",
     "output_type": "stream",
     "text": [
      "Training: 100%|██████████| 161/161 [00:06<00:00, 24.19it/s, loss=5.89]\n"
     ]
    },
    {
     "name": "stdout",
     "output_type": "stream",
     "text": [
      "Epoch [4/10] Train Loss: 5.891680681927604\n"
     ]
    },
    {
     "name": "stderr",
     "output_type": "stream",
     "text": [
      "Validation: 100%|██████████| 69/69 [00:02<00:00, 30.25it/s, loss=5.14]\n"
     ]
    },
    {
     "name": "stdout",
     "output_type": "stream",
     "text": [
      "Epoch [4/10] Validation Loss: 5.143260948899863\n"
     ]
    },
    {
     "name": "stderr",
     "output_type": "stream",
     "text": [
      "Training: 100%|██████████| 161/161 [00:06<00:00, 26.33it/s, loss=5.61]\n"
     ]
    },
    {
     "name": "stdout",
     "output_type": "stream",
     "text": [
      "Epoch [5/10] Train Loss: 5.611178909029279\n"
     ]
    },
    {
     "name": "stderr",
     "output_type": "stream",
     "text": [
      "Validation: 100%|██████████| 69/69 [00:02<00:00, 23.81it/s, loss=4.83]\n"
     ]
    },
    {
     "name": "stdout",
     "output_type": "stream",
     "text": [
      "Epoch [5/10] Validation Loss: 4.833326868388964\n"
     ]
    },
    {
     "name": "stderr",
     "output_type": "stream",
     "text": [
      "Training: 100%|██████████| 161/161 [00:06<00:00, 25.41it/s, loss=5.33]\n"
     ]
    },
    {
     "name": "stdout",
     "output_type": "stream",
     "text": [
      "Epoch [6/10] Train Loss: 5.32891049000047\n"
     ]
    },
    {
     "name": "stderr",
     "output_type": "stream",
     "text": [
      "Validation: 100%|██████████| 69/69 [00:02<00:00, 29.99it/s, loss=4.5] \n"
     ]
    },
    {
     "name": "stdout",
     "output_type": "stream",
     "text": [
      "Epoch [6/10] Validation Loss: 4.495672713155332\n"
     ]
    },
    {
     "name": "stderr",
     "output_type": "stream",
     "text": [
      "Training: 100%|██████████| 161/161 [00:06<00:00, 26.26it/s, loss=5]   \n"
     ]
    },
    {
     "name": "stdout",
     "output_type": "stream",
     "text": [
      "Epoch [7/10] Train Loss: 4.999702105611007\n"
     ]
    },
    {
     "name": "stderr",
     "output_type": "stream",
     "text": [
      "Validation: 100%|██████████| 69/69 [00:02<00:00, 26.60it/s, loss=4.14]\n"
     ]
    },
    {
     "name": "stdout",
     "output_type": "stream",
     "text": [
      "Epoch [7/10] Validation Loss: 4.143496001976124\n"
     ]
    },
    {
     "name": "stderr",
     "output_type": "stream",
     "text": [
      "Training: 100%|██████████| 161/161 [00:06<00:00, 25.89it/s, loss=4.61]\n"
     ]
    },
    {
     "name": "stdout",
     "output_type": "stream",
     "text": [
      "Epoch [8/10] Train Loss: 4.6131879039432695\n"
     ]
    },
    {
     "name": "stderr",
     "output_type": "stream",
     "text": [
      "Validation: 100%|██████████| 69/69 [00:02<00:00, 31.05it/s, loss=3.79]\n"
     ]
    },
    {
     "name": "stdout",
     "output_type": "stream",
     "text": [
      "Epoch [8/10] Validation Loss: 3.7895667069200156\n"
     ]
    },
    {
     "name": "stderr",
     "output_type": "stream",
     "text": [
      "Training: 100%|██████████| 161/161 [00:06<00:00, 26.36it/s, loss=4.26]\n"
     ]
    },
    {
     "name": "stdout",
     "output_type": "stream",
     "text": [
      "Epoch [9/10] Train Loss: 4.261984644469267\n"
     ]
    },
    {
     "name": "stderr",
     "output_type": "stream",
     "text": [
      "Validation: 100%|██████████| 69/69 [00:03<00:00, 22.25it/s, loss=3.44]\n"
     ]
    },
    {
     "name": "stdout",
     "output_type": "stream",
     "text": [
      "Epoch [9/10] Validation Loss: 3.4369856965714605\n"
     ]
    },
    {
     "name": "stderr",
     "output_type": "stream",
     "text": [
      "Training: 100%|██████████| 161/161 [00:06<00:00, 25.55it/s, loss=3.9] \n"
     ]
    },
    {
     "name": "stdout",
     "output_type": "stream",
     "text": [
      "Epoch [10/10] Train Loss: 3.899899998066588\n"
     ]
    },
    {
     "name": "stderr",
     "output_type": "stream",
     "text": [
      "Validation: 100%|██████████| 69/69 [00:02<00:00, 30.55it/s, loss=3.09]\n"
     ]
    },
    {
     "name": "stdout",
     "output_type": "stream",
     "text": [
      "Epoch [10/10] Validation Loss: 3.09189336196236\n"
     ]
    },
    {
     "name": "stderr",
     "output_type": "stream",
     "text": [
      "Testing_subset2: 100%|██████████| 38/38 [00:01<00:00, 19.10it/s]\n"
     ]
    },
    {
     "name": "stdout",
     "output_type": "stream",
     "text": [
      "Accuracy: 0.54\n",
      "Wrong counts for the digit 5: 696\n",
      "Wrong counts for the digit 6: 344\n",
      "Wrong counts for the digit 7: 536\n",
      "Wrong counts for the digit 8: 448\n",
      "Wrong counts for the digit 9: 210\n"
     ]
    },
    {
     "name": "stderr",
     "output_type": "stream",
     "text": [
      "Training: 100%|██████████| 161/161 [00:06<00:00, 26.17it/s, loss=6.46]\n"
     ]
    },
    {
     "name": "stdout",
     "output_type": "stream",
     "text": [
      "Epoch [1/10] Train Loss: 6.457271697358315\n"
     ]
    },
    {
     "name": "stderr",
     "output_type": "stream",
     "text": [
      "Validation: 100%|██████████| 69/69 [00:02<00:00, 29.97it/s, loss=5.53]\n"
     ]
    },
    {
     "name": "stdout",
     "output_type": "stream",
     "text": [
      "Epoch [1/10] Validation Loss: 5.534309701643128\n"
     ]
    },
    {
     "name": "stderr",
     "output_type": "stream",
     "text": [
      "Training: 100%|██████████| 161/161 [00:06<00:00, 26.32it/s, loss=5.92]\n"
     ]
    },
    {
     "name": "stdout",
     "output_type": "stream",
     "text": [
      "Epoch [2/10] Train Loss: 5.915769571102924\n"
     ]
    },
    {
     "name": "stderr",
     "output_type": "stream",
     "text": [
      "Validation: 100%|██████████| 69/69 [00:02<00:00, 26.20it/s, loss=5.04]\n"
     ]
    },
    {
     "name": "stdout",
     "output_type": "stream",
     "text": [
      "Epoch [2/10] Validation Loss: 5.042721817458886\n"
     ]
    },
    {
     "name": "stderr",
     "output_type": "stream",
     "text": [
      "Training: 100%|██████████| 161/161 [00:06<00:00, 26.60it/s, loss=5.39]\n"
     ]
    },
    {
     "name": "stdout",
     "output_type": "stream",
     "text": [
      "Epoch [3/10] Train Loss: 5.3879859728842785\n"
     ]
    },
    {
     "name": "stderr",
     "output_type": "stream",
     "text": [
      "Validation: 100%|██████████| 69/69 [00:02<00:00, 27.24it/s, loss=4.52]\n"
     ]
    },
    {
     "name": "stdout",
     "output_type": "stream",
     "text": [
      "Epoch [3/10] Validation Loss: 4.518733173176862\n"
     ]
    },
    {
     "name": "stderr",
     "output_type": "stream",
     "text": [
      "Training: 100%|██████████| 161/161 [00:05<00:00, 27.01it/s, loss=4.86]\n"
     ]
    },
    {
     "name": "stdout",
     "output_type": "stream",
     "text": [
      "Epoch [4/10] Train Loss: 4.8635636590282365\n"
     ]
    },
    {
     "name": "stderr",
     "output_type": "stream",
     "text": [
      "Validation: 100%|██████████| 69/69 [00:02<00:00, 28.53it/s, loss=3.95]\n"
     ]
    },
    {
     "name": "stdout",
     "output_type": "stream",
     "text": [
      "Epoch [4/10] Validation Loss: 3.9513329215671704\n"
     ]
    },
    {
     "name": "stderr",
     "output_type": "stream",
     "text": [
      "Training: 100%|██████████| 161/161 [00:06<00:00, 26.57it/s, loss=4.3] \n"
     ]
    },
    {
     "name": "stdout",
     "output_type": "stream",
     "text": [
      "Epoch [5/10] Train Loss: 4.297313694628129\n"
     ]
    },
    {
     "name": "stderr",
     "output_type": "stream",
     "text": [
      "Validation: 100%|██████████| 69/69 [00:02<00:00, 29.13it/s, loss=3.4] \n"
     ]
    },
    {
     "name": "stdout",
     "output_type": "stream",
     "text": [
      "Epoch [5/10] Validation Loss: 3.4018932598224585\n"
     ]
    },
    {
     "name": "stderr",
     "output_type": "stream",
     "text": [
      "Training: 100%|██████████| 161/161 [00:06<00:00, 25.46it/s, loss=3.78]\n"
     ]
    },
    {
     "name": "stdout",
     "output_type": "stream",
     "text": [
      "Epoch [6/10] Train Loss: 3.7757318508550988\n"
     ]
    },
    {
     "name": "stderr",
     "output_type": "stream",
     "text": [
      "Validation: 100%|██████████| 69/69 [00:02<00:00, 26.47it/s, loss=2.89]\n"
     ]
    },
    {
     "name": "stdout",
     "output_type": "stream",
     "text": [
      "Epoch [6/10] Validation Loss: 2.8909369586170586\n"
     ]
    },
    {
     "name": "stderr",
     "output_type": "stream",
     "text": [
      "Training: 100%|██████████| 161/161 [00:06<00:00, 25.18it/s, loss=3.27]\n"
     ]
    },
    {
     "name": "stdout",
     "output_type": "stream",
     "text": [
      "Epoch [7/10] Train Loss: 3.267317203261097\n"
     ]
    },
    {
     "name": "stderr",
     "output_type": "stream",
     "text": [
      "Validation: 100%|██████████| 69/69 [00:02<00:00, 29.89it/s, loss=2.4] \n"
     ]
    },
    {
     "name": "stdout",
     "output_type": "stream",
     "text": [
      "Epoch [7/10] Validation Loss: 2.3952582452608193\n"
     ]
    },
    {
     "name": "stderr",
     "output_type": "stream",
     "text": [
      "Training: 100%|██████████| 161/161 [00:07<00:00, 21.79it/s, loss=2.73]\n"
     ]
    },
    {
     "name": "stdout",
     "output_type": "stream",
     "text": [
      "Epoch [8/10] Train Loss: 2.7266319042407208\n"
     ]
    },
    {
     "name": "stderr",
     "output_type": "stream",
     "text": [
      "Validation: 100%|██████████| 69/69 [00:02<00:00, 24.93it/s, loss=1.94]\n"
     ]
    },
    {
     "name": "stdout",
     "output_type": "stream",
     "text": [
      "Epoch [8/10] Validation Loss: 1.940793714661529\n"
     ]
    },
    {
     "name": "stderr",
     "output_type": "stream",
     "text": [
      "Training: 100%|██████████| 161/161 [00:07<00:00, 22.99it/s, loss=2.3] \n"
     ]
    },
    {
     "name": "stdout",
     "output_type": "stream",
     "text": [
      "Epoch [9/10] Train Loss: 2.3022411506368505\n"
     ]
    },
    {
     "name": "stderr",
     "output_type": "stream",
     "text": [
      "Validation: 100%|██████████| 69/69 [00:02<00:00, 30.97it/s, loss=1.59]\n"
     ]
    },
    {
     "name": "stdout",
     "output_type": "stream",
     "text": [
      "Epoch [9/10] Validation Loss: 1.5877636429192363\n"
     ]
    },
    {
     "name": "stderr",
     "output_type": "stream",
     "text": [
      "Training: 100%|██████████| 161/161 [00:06<00:00, 24.62it/s, loss=1.96]\n"
     ]
    },
    {
     "name": "stdout",
     "output_type": "stream",
     "text": [
      "Epoch [10/10] Train Loss: 1.961255359353486\n"
     ]
    },
    {
     "name": "stderr",
     "output_type": "stream",
     "text": [
      "Validation: 100%|██████████| 69/69 [00:02<00:00, 29.56it/s, loss=1.34]\n"
     ]
    },
    {
     "name": "stdout",
     "output_type": "stream",
     "text": [
      "Epoch [10/10] Validation Loss: 1.335807192152825\n"
     ]
    },
    {
     "name": "stderr",
     "output_type": "stream",
     "text": [
      "Testing_subset2: 100%|██████████| 38/38 [00:01<00:00, 21.41it/s]\n"
     ]
    },
    {
     "name": "stdout",
     "output_type": "stream",
     "text": [
      "Accuracy: 0.721\n",
      "Wrong counts for the digit 5: 394\n",
      "Wrong counts for the digit 6: 279\n",
      "Wrong counts for the digit 7: 260\n",
      "Wrong counts for the digit 8: 296\n",
      "Wrong counts for the digit 9: 128\n"
     ]
    },
    {
     "name": "stderr",
     "output_type": "stream",
     "text": [
      "Training: 100%|██████████| 161/161 [00:06<00:00, 26.06it/s, loss=6.13]\n"
     ]
    },
    {
     "name": "stdout",
     "output_type": "stream",
     "text": [
      "Epoch [1/10] Train Loss: 6.133677349327514\n"
     ]
    },
    {
     "name": "stderr",
     "output_type": "stream",
     "text": [
      "Validation: 100%|██████████| 69/69 [00:02<00:00, 24.71it/s, loss=5.02]\n"
     ]
    },
    {
     "name": "stdout",
     "output_type": "stream",
     "text": [
      "Epoch [1/10] Validation Loss: 5.017184129659681\n"
     ]
    },
    {
     "name": "stderr",
     "output_type": "stream",
     "text": [
      "Training: 100%|██████████| 161/161 [00:06<00:00, 24.78it/s, loss=5.14]\n"
     ]
    },
    {
     "name": "stdout",
     "output_type": "stream",
     "text": [
      "Epoch [2/10] Train Loss: 5.137187384670566\n"
     ]
    },
    {
     "name": "stderr",
     "output_type": "stream",
     "text": [
      "Validation: 100%|██████████| 69/69 [00:02<00:00, 26.71it/s, loss=4.03]\n"
     ]
    },
    {
     "name": "stdout",
     "output_type": "stream",
     "text": [
      "Epoch [2/10] Validation Loss: 4.030109139456266\n"
     ]
    },
    {
     "name": "stderr",
     "output_type": "stream",
     "text": [
      "Training: 100%|██████████| 161/161 [00:06<00:00, 25.82it/s, loss=4.13]\n"
     ]
    },
    {
     "name": "stdout",
     "output_type": "stream",
     "text": [
      "Epoch [3/10] Train Loss: 4.129319769995553\n"
     ]
    },
    {
     "name": "stderr",
     "output_type": "stream",
     "text": [
      "Validation: 100%|██████████| 69/69 [00:02<00:00, 28.18it/s, loss=3.01]\n"
     ]
    },
    {
     "name": "stdout",
     "output_type": "stream",
     "text": [
      "Epoch [3/10] Validation Loss: 3.0149978416553442\n"
     ]
    },
    {
     "name": "stderr",
     "output_type": "stream",
     "text": [
      "Training: 100%|██████████| 161/161 [00:05<00:00, 26.90it/s, loss=3.17]\n"
     ]
    },
    {
     "name": "stdout",
     "output_type": "stream",
     "text": [
      "Epoch [4/10] Train Loss: 3.1712886953946224\n"
     ]
    },
    {
     "name": "stderr",
     "output_type": "stream",
     "text": [
      "Validation: 100%|██████████| 69/69 [00:02<00:00, 27.71it/s, loss=2.14]\n"
     ]
    },
    {
     "name": "stdout",
     "output_type": "stream",
     "text": [
      "Epoch [4/10] Validation Loss: 2.142000939535058\n"
     ]
    },
    {
     "name": "stderr",
     "output_type": "stream",
     "text": [
      "Training: 100%|██████████| 161/161 [00:06<00:00, 25.81it/s, loss=2.44]\n"
     ]
    },
    {
     "name": "stdout",
     "output_type": "stream",
     "text": [
      "Epoch [5/10] Train Loss: 2.4387685193778563\n"
     ]
    },
    {
     "name": "stderr",
     "output_type": "stream",
     "text": [
      "Validation: 100%|██████████| 69/69 [00:02<00:00, 23.28it/s, loss=1.54]\n"
     ]
    },
    {
     "name": "stdout",
     "output_type": "stream",
     "text": [
      "Epoch [5/10] Validation Loss: 1.537917403207309\n"
     ]
    },
    {
     "name": "stderr",
     "output_type": "stream",
     "text": [
      "Training: 100%|██████████| 161/161 [00:06<00:00, 24.29it/s, loss=1.92]\n"
     ]
    },
    {
     "name": "stdout",
     "output_type": "stream",
     "text": [
      "Epoch [6/10] Train Loss: 1.9228144691597602\n"
     ]
    },
    {
     "name": "stderr",
     "output_type": "stream",
     "text": [
      "Validation: 100%|██████████| 69/69 [00:02<00:00, 29.01it/s, loss=1.15]\n"
     ]
    },
    {
     "name": "stdout",
     "output_type": "stream",
     "text": [
      "Epoch [6/10] Validation Loss: 1.1500088175137837\n"
     ]
    },
    {
     "name": "stderr",
     "output_type": "stream",
     "text": [
      "Training: 100%|██████████| 161/161 [00:07<00:00, 22.94it/s, loss=1.51]\n"
     ]
    },
    {
     "name": "stdout",
     "output_type": "stream",
     "text": [
      "Epoch [7/10] Train Loss: 1.5146865770683526\n"
     ]
    },
    {
     "name": "stderr",
     "output_type": "stream",
     "text": [
      "Validation: 100%|██████████| 69/69 [00:02<00:00, 25.99it/s, loss=0.932]\n"
     ]
    },
    {
     "name": "stdout",
     "output_type": "stream",
     "text": [
      "Epoch [7/10] Validation Loss: 0.9320877125297767\n"
     ]
    },
    {
     "name": "stderr",
     "output_type": "stream",
     "text": [
      "Training: 100%|██████████| 161/161 [00:06<00:00, 25.83it/s, loss=1.33]\n"
     ]
    },
    {
     "name": "stdout",
     "output_type": "stream",
     "text": [
      "Epoch [8/10] Train Loss: 1.3344722967710554\n"
     ]
    },
    {
     "name": "stderr",
     "output_type": "stream",
     "text": [
      "Validation: 100%|██████████| 69/69 [00:02<00:00, 30.27it/s, loss=0.799]\n"
     ]
    },
    {
     "name": "stdout",
     "output_type": "stream",
     "text": [
      "Epoch [8/10] Validation Loss: 0.7989499737387118\n"
     ]
    },
    {
     "name": "stderr",
     "output_type": "stream",
     "text": [
      "Training: 100%|██████████| 161/161 [00:07<00:00, 22.15it/s, loss=1.18]\n"
     ]
    },
    {
     "name": "stdout",
     "output_type": "stream",
     "text": [
      "Epoch [9/10] Train Loss: 1.1760051254159916\n"
     ]
    },
    {
     "name": "stderr",
     "output_type": "stream",
     "text": [
      "Validation: 100%|██████████| 69/69 [00:04<00:00, 16.62it/s, loss=0.709]\n"
     ]
    },
    {
     "name": "stdout",
     "output_type": "stream",
     "text": [
      "Epoch [9/10] Validation Loss: 0.7086073540259099\n"
     ]
    },
    {
     "name": "stderr",
     "output_type": "stream",
     "text": [
      "Training: 100%|██████████| 161/161 [00:10<00:00, 16.08it/s, loss=1.07]\n"
     ]
    },
    {
     "name": "stdout",
     "output_type": "stream",
     "text": [
      "Epoch [10/10] Train Loss: 1.067117598856458\n"
     ]
    },
    {
     "name": "stderr",
     "output_type": "stream",
     "text": [
      "Validation: 100%|██████████| 69/69 [00:03<00:00, 20.45it/s, loss=0.644]\n"
     ]
    },
    {
     "name": "stdout",
     "output_type": "stream",
     "text": [
      "Epoch [10/10] Validation Loss: 0.6442420188931451\n"
     ]
    },
    {
     "name": "stderr",
     "output_type": "stream",
     "text": [
      "Testing_subset2: 100%|██████████| 38/38 [00:01<00:00, 20.97it/s]\n"
     ]
    },
    {
     "name": "stdout",
     "output_type": "stream",
     "text": [
      "Accuracy: 0.823\n",
      "Wrong counts for the digit 5: 204\n",
      "Wrong counts for the digit 6: 145\n",
      "Wrong counts for the digit 7: 196\n",
      "Wrong counts for the digit 8: 209\n",
      "Wrong counts for the digit 9: 105\n"
     ]
    },
    {
     "name": "stderr",
     "output_type": "stream",
     "text": [
      "Training: 100%|██████████| 161/161 [00:06<00:00, 26.17it/s, loss=5.86]\n"
     ]
    },
    {
     "name": "stdout",
     "output_type": "stream",
     "text": [
      "Epoch [1/10] Train Loss: 5.8625338951253\n"
     ]
    },
    {
     "name": "stderr",
     "output_type": "stream",
     "text": [
      "Validation: 100%|██████████| 69/69 [00:02<00:00, 29.06it/s, loss=4.43]\n"
     ]
    },
    {
     "name": "stdout",
     "output_type": "stream",
     "text": [
      "Epoch [1/10] Validation Loss: 4.434221188227336\n"
     ]
    },
    {
     "name": "stderr",
     "output_type": "stream",
     "text": [
      "Training: 100%|██████████| 161/161 [00:06<00:00, 25.45it/s, loss=4.33]\n"
     ]
    },
    {
     "name": "stdout",
     "output_type": "stream",
     "text": [
      "Epoch [2/10] Train Loss: 4.333878688930724\n"
     ]
    },
    {
     "name": "stderr",
     "output_type": "stream",
     "text": [
      "Validation: 100%|██████████| 69/69 [00:02<00:00, 26.47it/s, loss=3]   \n"
     ]
    },
    {
     "name": "stdout",
     "output_type": "stream",
     "text": [
      "Epoch [2/10] Validation Loss: 2.9977372141851895\n"
     ]
    },
    {
     "name": "stderr",
     "output_type": "stream",
     "text": [
      "Training: 100%|██████████| 161/161 [00:06<00:00, 25.24it/s, loss=2.95]\n"
     ]
    },
    {
     "name": "stdout",
     "output_type": "stream",
     "text": [
      "Epoch [3/10] Train Loss: 2.9519666862783964\n"
     ]
    },
    {
     "name": "stderr",
     "output_type": "stream",
     "text": [
      "Validation: 100%|██████████| 69/69 [00:02<00:00, 28.91it/s, loss=1.87]\n"
     ]
    },
    {
     "name": "stdout",
     "output_type": "stream",
     "text": [
      "Epoch [3/10] Validation Loss: 1.8659676624381023\n"
     ]
    },
    {
     "name": "stderr",
     "output_type": "stream",
     "text": [
      "Training: 100%|██████████| 161/161 [00:06<00:00, 23.79it/s, loss=2.02]\n"
     ]
    },
    {
     "name": "stdout",
     "output_type": "stream",
     "text": [
      "Epoch [4/10] Train Loss: 2.0233527370121167\n"
     ]
    },
    {
     "name": "stderr",
     "output_type": "stream",
     "text": [
      "Validation: 100%|██████████| 69/69 [00:03<00:00, 22.46it/s, loss=1.16]\n"
     ]
    },
    {
     "name": "stdout",
     "output_type": "stream",
     "text": [
      "Epoch [4/10] Validation Loss: 1.1600907850956572\n"
     ]
    },
    {
     "name": "stderr",
     "output_type": "stream",
     "text": [
      "Training: 100%|██████████| 161/161 [00:06<00:00, 25.42it/s, loss=1.46]\n"
     ]
    },
    {
     "name": "stdout",
     "output_type": "stream",
     "text": [
      "Epoch [5/10] Train Loss: 1.4552475047407682\n"
     ]
    },
    {
     "name": "stderr",
     "output_type": "stream",
     "text": [
      "Validation: 100%|██████████| 69/69 [00:02<00:00, 29.55it/s, loss=0.807]\n"
     ]
    },
    {
     "name": "stdout",
     "output_type": "stream",
     "text": [
      "Epoch [5/10] Validation Loss: 0.8068485847417859\n"
     ]
    },
    {
     "name": "stderr",
     "output_type": "stream",
     "text": [
      "Training: 100%|██████████| 161/161 [00:06<00:00, 24.55it/s, loss=1.12]\n"
     ]
    },
    {
     "name": "stdout",
     "output_type": "stream",
     "text": [
      "Epoch [6/10] Train Loss: 1.1203338907372138\n"
     ]
    },
    {
     "name": "stderr",
     "output_type": "stream",
     "text": [
      "Validation: 100%|██████████| 69/69 [00:02<00:00, 27.56it/s, loss=0.633]\n"
     ]
    },
    {
     "name": "stdout",
     "output_type": "stream",
     "text": [
      "Epoch [6/10] Validation Loss: 0.632693060066389\n"
     ]
    },
    {
     "name": "stderr",
     "output_type": "stream",
     "text": [
      "Training: 100%|██████████| 161/161 [00:06<00:00, 25.16it/s, loss=0.947]\n"
     ]
    },
    {
     "name": "stdout",
     "output_type": "stream",
     "text": [
      "Epoch [7/10] Train Loss: 0.9466416554421372\n"
     ]
    },
    {
     "name": "stderr",
     "output_type": "stream",
     "text": [
      "Validation: 100%|██████████| 69/69 [00:02<00:00, 30.58it/s, loss=0.53] \n"
     ]
    },
    {
     "name": "stdout",
     "output_type": "stream",
     "text": [
      "Epoch [7/10] Validation Loss: 0.5302156430223713\n"
     ]
    },
    {
     "name": "stderr",
     "output_type": "stream",
     "text": [
      "Training: 100%|██████████| 161/161 [00:06<00:00, 24.82it/s, loss=0.821]\n"
     ]
    },
    {
     "name": "stdout",
     "output_type": "stream",
     "text": [
      "Epoch [8/10] Train Loss: 0.8211038220002784\n"
     ]
    },
    {
     "name": "stderr",
     "output_type": "stream",
     "text": [
      "Validation: 100%|██████████| 69/69 [00:02<00:00, 26.14it/s, loss=0.464]\n"
     ]
    },
    {
     "name": "stdout",
     "output_type": "stream",
     "text": [
      "Epoch [8/10] Validation Loss: 0.46403961855432263\n"
     ]
    },
    {
     "name": "stderr",
     "output_type": "stream",
     "text": [
      "Training: 100%|██████████| 161/161 [00:06<00:00, 25.59it/s, loss=0.728]\n"
     ]
    },
    {
     "name": "stdout",
     "output_type": "stream",
     "text": [
      "Epoch [9/10] Train Loss: 0.7283739106995719\n"
     ]
    },
    {
     "name": "stderr",
     "output_type": "stream",
     "text": [
      "Validation: 100%|██████████| 69/69 [00:02<00:00, 26.86it/s, loss=0.42] \n"
     ]
    },
    {
     "name": "stdout",
     "output_type": "stream",
     "text": [
      "Epoch [9/10] Validation Loss: 0.41950564237608423\n"
     ]
    },
    {
     "name": "stderr",
     "output_type": "stream",
     "text": [
      "Training: 100%|██████████| 161/161 [00:07<00:00, 21.92it/s, loss=0.664]\n"
     ]
    },
    {
     "name": "stdout",
     "output_type": "stream",
     "text": [
      "Epoch [10/10] Train Loss: 0.6642920054634165\n"
     ]
    },
    {
     "name": "stderr",
     "output_type": "stream",
     "text": [
      "Validation: 100%|██████████| 69/69 [00:02<00:00, 28.59it/s, loss=0.382]\n"
     ]
    },
    {
     "name": "stdout",
     "output_type": "stream",
     "text": [
      "Epoch [10/10] Validation Loss: 0.38194803828778473\n"
     ]
    },
    {
     "name": "stderr",
     "output_type": "stream",
     "text": [
      "Testing_subset2: 100%|██████████| 38/38 [00:01<00:00, 20.43it/s]\n"
     ]
    },
    {
     "name": "stdout",
     "output_type": "stream",
     "text": [
      "Accuracy: 0.894\n",
      "Wrong counts for the digit 5: 114\n",
      "Wrong counts for the digit 6: 66\n",
      "Wrong counts for the digit 7: 104\n",
      "Wrong counts for the digit 8: 153\n",
      "Wrong counts for the digit 9: 76\n"
     ]
    },
    {
     "name": "stderr",
     "output_type": "stream",
     "text": [
      "Training: 100%|██████████| 161/161 [00:08<00:00, 20.07it/s, loss=4.91]\n"
     ]
    },
    {
     "name": "stdout",
     "output_type": "stream",
     "text": [
      "Epoch [1/10] Train Loss: 4.911071673683498\n"
     ]
    },
    {
     "name": "stderr",
     "output_type": "stream",
     "text": [
      "Validation: 100%|██████████| 69/69 [00:02<00:00, 27.95it/s, loss=2.88]\n"
     ]
    },
    {
     "name": "stdout",
     "output_type": "stream",
     "text": [
      "Epoch [1/10] Validation Loss: 2.8838501304819966\n"
     ]
    },
    {
     "name": "stderr",
     "output_type": "stream",
     "text": [
      "Training: 100%|██████████| 161/161 [00:06<00:00, 24.35it/s, loss=2.49]\n"
     ]
    },
    {
     "name": "stdout",
     "output_type": "stream",
     "text": [
      "Epoch [2/10] Train Loss: 2.488160945613932\n"
     ]
    },
    {
     "name": "stderr",
     "output_type": "stream",
     "text": [
      "Validation: 100%|██████████| 69/69 [00:02<00:00, 29.79it/s, loss=1.3] \n"
     ]
    },
    {
     "name": "stdout",
     "output_type": "stream",
     "text": [
      "Epoch [2/10] Validation Loss: 1.2988068046777144\n"
     ]
    },
    {
     "name": "stderr",
     "output_type": "stream",
     "text": [
      "Training: 100%|██████████| 161/161 [00:10<00:00, 15.05it/s, loss=1.34]\n"
     ]
    },
    {
     "name": "stdout",
     "output_type": "stream",
     "text": [
      "Epoch [3/10] Train Loss: 1.3428465657352662\n"
     ]
    },
    {
     "name": "stderr",
     "output_type": "stream",
     "text": [
      "Validation: 100%|██████████| 69/69 [00:03<00:00, 17.69it/s, loss=0.697]\n"
     ]
    },
    {
     "name": "stdout",
     "output_type": "stream",
     "text": [
      "Epoch [3/10] Validation Loss: 0.696619955525882\n"
     ]
    },
    {
     "name": "stderr",
     "output_type": "stream",
     "text": [
      "Training: 100%|██████████| 161/161 [00:08<00:00, 17.95it/s, loss=0.88] \n"
     ]
    },
    {
     "name": "stdout",
     "output_type": "stream",
     "text": [
      "Epoch [4/10] Train Loss: 0.8798217758628892\n"
     ]
    },
    {
     "name": "stderr",
     "output_type": "stream",
     "text": [
      "Validation: 100%|██████████| 69/69 [00:03<00:00, 19.56it/s, loss=0.475]\n"
     ]
    },
    {
     "name": "stdout",
     "output_type": "stream",
     "text": [
      "Epoch [4/10] Validation Loss: 0.47506086679472437\n"
     ]
    },
    {
     "name": "stderr",
     "output_type": "stream",
     "text": [
      "Training: 100%|██████████| 161/161 [00:10<00:00, 15.53it/s, loss=0.678]\n"
     ]
    },
    {
     "name": "stdout",
     "output_type": "stream",
     "text": [
      "Epoch [5/10] Train Loss: 0.677835225133422\n"
     ]
    },
    {
     "name": "stderr",
     "output_type": "stream",
     "text": [
      "Validation: 100%|██████████| 69/69 [00:04<00:00, 15.98it/s, loss=0.378]\n"
     ]
    },
    {
     "name": "stdout",
     "output_type": "stream",
     "text": [
      "Epoch [5/10] Validation Loss: 0.37825845181941986\n"
     ]
    },
    {
     "name": "stderr",
     "output_type": "stream",
     "text": [
      "Training: 100%|██████████| 161/161 [00:10<00:00, 15.55it/s, loss=0.573]\n"
     ]
    },
    {
     "name": "stdout",
     "output_type": "stream",
     "text": [
      "Epoch [6/10] Train Loss: 0.5732584408721568\n"
     ]
    },
    {
     "name": "stderr",
     "output_type": "stream",
     "text": [
      "Validation: 100%|██████████| 69/69 [00:05<00:00, 13.68it/s, loss=0.321]\n"
     ]
    },
    {
     "name": "stdout",
     "output_type": "stream",
     "text": [
      "Epoch [6/10] Validation Loss: 0.3208159795705823\n"
     ]
    },
    {
     "name": "stderr",
     "output_type": "stream",
     "text": [
      "Training: 100%|██████████| 161/161 [00:10<00:00, 15.05it/s, loss=0.508]\n"
     ]
    },
    {
     "name": "stdout",
     "output_type": "stream",
     "text": [
      "Epoch [7/10] Train Loss: 0.5078459825389874\n"
     ]
    },
    {
     "name": "stderr",
     "output_type": "stream",
     "text": [
      "Validation: 100%|██████████| 69/69 [00:03<00:00, 17.53it/s, loss=0.286]\n"
     ]
    },
    {
     "name": "stdout",
     "output_type": "stream",
     "text": [
      "Epoch [7/10] Validation Loss: 0.285642200190088\n"
     ]
    },
    {
     "name": "stderr",
     "output_type": "stream",
     "text": [
      "Training: 100%|██████████| 161/161 [00:08<00:00, 17.99it/s, loss=0.448]\n"
     ]
    },
    {
     "name": "stdout",
     "output_type": "stream",
     "text": [
      "Epoch [8/10] Train Loss: 0.4483784920310382\n"
     ]
    },
    {
     "name": "stderr",
     "output_type": "stream",
     "text": [
      "Validation: 100%|██████████| 69/69 [00:04<00:00, 15.12it/s, loss=0.259]\n"
     ]
    },
    {
     "name": "stdout",
     "output_type": "stream",
     "text": [
      "Epoch [8/10] Validation Loss: 0.2589595384787822\n"
     ]
    },
    {
     "name": "stderr",
     "output_type": "stream",
     "text": [
      "Training: 100%|██████████| 161/161 [00:11<00:00, 13.80it/s, loss=0.41] \n"
     ]
    },
    {
     "name": "stdout",
     "output_type": "stream",
     "text": [
      "Epoch [9/10] Train Loss: 0.4097577778634077\n"
     ]
    },
    {
     "name": "stderr",
     "output_type": "stream",
     "text": [
      "Validation: 100%|██████████| 69/69 [00:04<00:00, 13.80it/s, loss=0.24] \n"
     ]
    },
    {
     "name": "stdout",
     "output_type": "stream",
     "text": [
      "Epoch [9/10] Validation Loss: 0.23980458015980927\n"
     ]
    },
    {
     "name": "stderr",
     "output_type": "stream",
     "text": [
      "Training: 100%|██████████| 161/161 [00:09<00:00, 16.60it/s, loss=0.375]\n"
     ]
    },
    {
     "name": "stdout",
     "output_type": "stream",
     "text": [
      "Epoch [10/10] Train Loss: 0.3754654714594717\n"
     ]
    },
    {
     "name": "stderr",
     "output_type": "stream",
     "text": [
      "Validation: 100%|██████████| 69/69 [00:04<00:00, 13.88it/s, loss=0.222]\n"
     ]
    },
    {
     "name": "stdout",
     "output_type": "stream",
     "text": [
      "Epoch [10/10] Validation Loss: 0.222198575195195\n"
     ]
    },
    {
     "name": "stderr",
     "output_type": "stream",
     "text": [
      "Testing_subset2: 100%|██████████| 38/38 [00:02<00:00, 15.25it/s]\n"
     ]
    },
    {
     "name": "stdout",
     "output_type": "stream",
     "text": [
      "Accuracy: 0.928\n",
      "Wrong counts for the digit 5: 75\n",
      "Wrong counts for the digit 6: 44\n",
      "Wrong counts for the digit 7: 58\n",
      "Wrong counts for the digit 8: 111\n",
      "Wrong counts for the digit 9: 63\n"
     ]
    },
    {
     "name": "stderr",
     "output_type": "stream",
     "text": [
      "Training: 100%|██████████| 161/161 [00:11<00:00, 13.95it/s, loss=3.61]\n"
     ]
    },
    {
     "name": "stdout",
     "output_type": "stream",
     "text": [
      "Epoch [1/10] Train Loss: 3.6147881464928573\n"
     ]
    },
    {
     "name": "stderr",
     "output_type": "stream",
     "text": [
      "Validation: 100%|██████████| 69/69 [00:04<00:00, 14.80it/s, loss=1.31]\n"
     ]
    },
    {
     "name": "stdout",
     "output_type": "stream",
     "text": [
      "Epoch [1/10] Validation Loss: 1.314474772715914\n"
     ]
    },
    {
     "name": "stderr",
     "output_type": "stream",
     "text": [
      "Training: 100%|██████████| 161/161 [00:11<00:00, 13.65it/s, loss=1.08]\n"
     ]
    },
    {
     "name": "stdout",
     "output_type": "stream",
     "text": [
      "Epoch [2/10] Train Loss: 1.0769314528992457\n"
     ]
    },
    {
     "name": "stderr",
     "output_type": "stream",
     "text": [
      "Validation: 100%|██████████| 69/69 [00:04<00:00, 14.07it/s, loss=0.455]\n"
     ]
    },
    {
     "name": "stdout",
     "output_type": "stream",
     "text": [
      "Epoch [2/10] Validation Loss: 0.45463987061942834\n"
     ]
    },
    {
     "name": "stderr",
     "output_type": "stream",
     "text": [
      "Training: 100%|██████████| 161/161 [00:11<00:00, 14.21it/s, loss=0.579]\n"
     ]
    },
    {
     "name": "stdout",
     "output_type": "stream",
     "text": [
      "Epoch [3/10] Train Loss: 0.5790866572664392\n"
     ]
    },
    {
     "name": "stderr",
     "output_type": "stream",
     "text": [
      "Validation: 100%|██████████| 69/69 [00:04<00:00, 14.17it/s, loss=0.291]\n"
     ]
    },
    {
     "name": "stdout",
     "output_type": "stream",
     "text": [
      "Epoch [3/10] Validation Loss: 0.2914588440587555\n"
     ]
    },
    {
     "name": "stderr",
     "output_type": "stream",
     "text": [
      "Training: 100%|██████████| 161/161 [00:10<00:00, 14.94it/s, loss=0.439]\n"
     ]
    },
    {
     "name": "stdout",
     "output_type": "stream",
     "text": [
      "Epoch [4/10] Train Loss: 0.4389749820002858\n"
     ]
    },
    {
     "name": "stderr",
     "output_type": "stream",
     "text": [
      "Validation: 100%|██████████| 69/69 [00:03<00:00, 20.92it/s, loss=0.229]\n"
     ]
    },
    {
     "name": "stdout",
     "output_type": "stream",
     "text": [
      "Epoch [4/10] Validation Loss: 0.2285014162029045\n"
     ]
    },
    {
     "name": "stderr",
     "output_type": "stream",
     "text": [
      "Training: 100%|██████████| 161/161 [00:08<00:00, 18.83it/s, loss=0.362]\n"
     ]
    },
    {
     "name": "stdout",
     "output_type": "stream",
     "text": [
      "Epoch [5/10] Train Loss: 0.36162408594018924\n"
     ]
    },
    {
     "name": "stderr",
     "output_type": "stream",
     "text": [
      "Validation: 100%|██████████| 69/69 [00:03<00:00, 19.07it/s, loss=0.194]\n"
     ]
    },
    {
     "name": "stdout",
     "output_type": "stream",
     "text": [
      "Epoch [5/10] Validation Loss: 0.19421443850665854\n"
     ]
    },
    {
     "name": "stderr",
     "output_type": "stream",
     "text": [
      "Training: 100%|██████████| 161/161 [00:10<00:00, 14.69it/s, loss=0.306]\n"
     ]
    },
    {
     "name": "stdout",
     "output_type": "stream",
     "text": [
      "Epoch [6/10] Train Loss: 0.30633958776174863\n"
     ]
    },
    {
     "name": "stderr",
     "output_type": "stream",
     "text": [
      "Validation: 100%|██████████| 69/69 [00:04<00:00, 16.99it/s, loss=0.172]\n"
     ]
    },
    {
     "name": "stdout",
     "output_type": "stream",
     "text": [
      "Epoch [6/10] Validation Loss: 0.17188469309737717\n"
     ]
    },
    {
     "name": "stderr",
     "output_type": "stream",
     "text": [
      "Training: 100%|██████████| 161/161 [00:10<00:00, 15.08it/s, loss=0.28] \n"
     ]
    },
    {
     "name": "stdout",
     "output_type": "stream",
     "text": [
      "Epoch [7/10] Train Loss: 0.2798571724976812\n"
     ]
    },
    {
     "name": "stderr",
     "output_type": "stream",
     "text": [
      "Validation: 100%|██████████| 69/69 [00:04<00:00, 15.69it/s, loss=0.154]\n"
     ]
    },
    {
     "name": "stdout",
     "output_type": "stream",
     "text": [
      "Epoch [7/10] Validation Loss: 0.15429748141247293\n"
     ]
    },
    {
     "name": "stderr",
     "output_type": "stream",
     "text": [
      "Training: 100%|██████████| 161/161 [00:10<00:00, 16.10it/s, loss=0.248]\n"
     ]
    },
    {
     "name": "stdout",
     "output_type": "stream",
     "text": [
      "Epoch [8/10] Train Loss: 0.2483303560788587\n"
     ]
    },
    {
     "name": "stderr",
     "output_type": "stream",
     "text": [
      "Validation: 100%|██████████| 69/69 [00:02<00:00, 23.05it/s, loss=0.141]\n"
     ]
    },
    {
     "name": "stdout",
     "output_type": "stream",
     "text": [
      "Epoch [8/10] Validation Loss: 0.14092136930296387\n"
     ]
    },
    {
     "name": "stderr",
     "output_type": "stream",
     "text": [
      "Training: 100%|██████████| 161/161 [00:10<00:00, 15.15it/s, loss=0.235]\n"
     ]
    },
    {
     "name": "stdout",
     "output_type": "stream",
     "text": [
      "Epoch [9/10] Train Loss: 0.2350227008602634\n"
     ]
    },
    {
     "name": "stderr",
     "output_type": "stream",
     "text": [
      "Validation: 100%|██████████| 69/69 [00:02<00:00, 23.73it/s, loss=0.135]\n"
     ]
    },
    {
     "name": "stdout",
     "output_type": "stream",
     "text": [
      "Epoch [9/10] Validation Loss: 0.13482065471834032\n"
     ]
    },
    {
     "name": "stderr",
     "output_type": "stream",
     "text": [
      "Training: 100%|██████████| 161/161 [00:12<00:00, 13.35it/s, loss=0.221]\n"
     ]
    },
    {
     "name": "stdout",
     "output_type": "stream",
     "text": [
      "Epoch [10/10] Train Loss: 0.2214032939594725\n"
     ]
    },
    {
     "name": "stderr",
     "output_type": "stream",
     "text": [
      "Validation: 100%|██████████| 69/69 [00:05<00:00, 12.75it/s, loss=0.124]\n"
     ]
    },
    {
     "name": "stdout",
     "output_type": "stream",
     "text": [
      "Epoch [10/10] Validation Loss: 0.12379509253778319\n"
     ]
    },
    {
     "name": "stderr",
     "output_type": "stream",
     "text": [
      "Testing_subset2: 100%|██████████| 38/38 [00:02<00:00, 14.82it/s]"
     ]
    },
    {
     "name": "stdout",
     "output_type": "stream",
     "text": [
      "Accuracy: 0.957\n",
      "Wrong counts for the digit 5: 41\n",
      "Wrong counts for the digit 6: 21\n",
      "Wrong counts for the digit 7: 41\n",
      "Wrong counts for the digit 8: 52\n",
      "Wrong counts for the digit 9: 54\n"
     ]
    },
    {
     "name": "stderr",
     "output_type": "stream",
     "text": [
      "\n"
     ]
    }
   ],
   "source": [
    "lora_ranks = [1, 2, 4, 8, 16, 32, 64]\n",
    "lora_params = {}\n",
    "accuracies = {}\n",
    "\n",
    "for lora_rank in lora_ranks:\n",
    "\n",
    "    model = ModifiedClassifier(lora_rank).to(device)\n",
    "    lora_params[lora_rank] = count_lora_param(model)\n",
    "\n",
    "    train_loss, val_loss = train(\n",
    "        train_loader_subset2, val_loader_subset2, \"subset2\", model, epochs=10\n",
    "    )\n",
    "    \n",
    "    accuracies[lora_rank] = test(\n",
    "        test_loader_subset2, \"Testing_subset2\", model, \n",
    "        {i: 0 for i in range(5, 10)}\n",
    "    )"
   ]
  },
  {
   "cell_type": "markdown",
   "id": "f1f93aa5",
   "metadata": {},
   "source": [
    "##### Visualize"
   ]
  },
  {
   "cell_type": "code",
   "execution_count": 80,
   "id": "49b2b9fe",
   "metadata": {},
   "outputs": [
    {
     "data": {
      "image/png": "[encoded data removed]",
      "text/plain": [
       "<Figure size 1200x600 with 2 Axes>"
      ]
     },
     "metadata": {},
     "output_type": "display_data"
    }
   ],
   "source": [
    "plt.figure(figsize=(12, 6))\n",
    "plt.subplot(1, 2, 1)\n",
    "plt.plot(lora_ranks, list(lora_params.values()), label=\"Number of parameters\")\n",
    "plt.hlines(total_parameters_original, xmin=lora_ranks[0], xmax=lora_ranks[-1], colors='red', label='Non Lora Fine tuning')\n",
    "plt.xlabel(\"Lora Ranks\")\n",
    "plt.ylabel(\"Number of Parameters\")\n",
    "plt.legend()\n",
    "plt.subplot(1, 2, 2)\n",
    "plt.plot(lora_ranks, list(accuracies.values()), label=\"Accuracy\")\n",
    "plt.hlines(accuracy_fine_tuning, xmin=lora_ranks[0], xmax=lora_ranks[-1], colors='red', label='Non Lora Fine tuning')\n",
    "plt.xlabel(\"Lora Ranks\")\n",
    "plt.ylabel(\"Accuracy\")\n",
    "plt.legend()\n",
    "plt.tight_layout()\n",
    "plt.show()"
   ]
  },
  {
   "cell_type": "markdown",
   "id": "487a35af",
   "metadata": {},
   "source": [
    "# Conclusion"
   ]
  },
  {
   "cell_type": "markdown",
   "id": "726f3608",
   "metadata": {},
   "source": [
    "We can see in the plot that number of parameters in LoRA grows linearly whereas marginal gain in performance decreases.  \n",
    "\n",
    "We achieve similar results with LoRA of rank 32 than with full fine-tuning. However there is a substantial decrease in parameters: instead of fine-tuning 2,797,005 parameters we only fine-tune around 200,000 parameters, enabling substantial memory saving.\n",
    "\n",
    "This kind of algorithm can be very useful for fine-tuning model with very large number of parameters like LLM."
   ]
  }
 ],
 "metadata": {
  "kernelspec": {
   "display_name": "Python 3",
   "language": "python",
   "name": "python3"
  },
  "kfiletag": "WtIcOBRcHRSU",
  "language_info": {
   "codemirror_mode": {
    "name": "ipython",
    "version": 3
   },
   "file_extension": ".py",
   "mimetype": "text/x-python",
   "name": "python",
   "nbconvert_exporter": "python",
   "pygments_lexer": "ipython3",
   "version": "3.11.7"
  }
 },
 "nbformat": 4,
 "nbformat_minor": 5
}
