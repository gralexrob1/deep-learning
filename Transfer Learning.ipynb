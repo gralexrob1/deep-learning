{
 "cells": [
  {
   "cell_type": "markdown",
   "metadata": {
    "cell_ktag": "cXDGAzn4gylN",
    "id": "4jVkOWmgFT1p"
   },
   "source": [
    "# **Practical session on Transfer Learning**\n",
    "This Pratical session proposes to study several techniques for improving challenging context, in which few data and resources are available."
   ]
  },
  {
   "cell_type": "markdown",
   "metadata": {
    "cell_ktag": "cXDGAzn4gylN",
    "id": "QLKnIngy_2hg"
   },
   "source": [
    "# Introduction\n",
    "\n",
    "**Context :**\n",
    "\n",
    "Assume we are in a context where few \"gold\" labeled data are available for training, say \n",
    "\n",
    "$$\\mathcal{X}_{\\text{train}} = \\{(x_n,y_n)\\}_{n\\leq N_{\\text{train}}}$$\n",
    "\n",
    "where $N_{\\text{train}}$ is small. \n",
    "\n",
    "A large test set $\\mathcal{X}_{\\text{test}}$ as well as a large amount of unlabeled data, $\\mathcal{X}$, is available. We also assume that we have a limited computational budget (e.g., no GPUs).\n",
    "\n",
    "**Instructions to follow :** \n",
    "\n",
    "For each question, write a commented *Code* or a complete answer as a *Markdown*. When the objective of a question is to report a CNN accuracy, please use the following format to report it, at the end of the question :\n",
    "\n",
    "| Model | Number of  epochs  | Train accuracy | Test accuracy |\n",
    "|------|------|------|------|\n",
    "|   XXX  | XXX | XXX | XXX |\n",
    "\n",
    "If applicable, please add the field corresponding to the  __Accuracy on Full Data__ as well as a link to the __Reference paper__ you used to report those numbers. (You do not need to train a CNN on the full CIFAR10 dataset!)\n",
    "\n",
    "In your final report, please *keep the logs of each training procedure* you used. We will only run this jupyter if we have some doubts on your implementation. \n",
    "\n",
    "The total file sizes should be reasonable (feasible with 2MB only!). You will be asked to hand in the notebook, together with any necessary files required to run it if any.\n",
    "\n",
    "You can use https://colab.research.google.com/ to run your experiments."
   ]
  },
  {
   "cell_type": "markdown",
   "metadata": {
    "cell_ktag": "cXDGAzn4gylN",
    "id": "YmTCQPSh_2hg"
   },
   "source": [
    "## Training set creation\n",
    "__Question 1 (1 points) :__ Propose a dataloader to obtain a training loader that will only use the first 100 samples of the CIFAR-10 training set.\n",
    "\n",
    "Additional information :  \n",
    "\n",
    "*   CIFAR10 dataset : https://en.wikipedia.org/wiki/CIFAR-10\n",
    "*   You can directly use the dataloader framework from Pytorch.\n",
    "*   Alternatively you can modify the file : https://github.com/pytorch/vision/blob/master/torchvision/datasets/cifar.py"
   ]
  },
  {
   "cell_type": "code",
   "execution_count": 1,
   "metadata": {
    "cell_ktag": "cXDGAzn4gylN",
    "id": "uZkC5IxR_2hh"
   },
   "outputs": [
    {
     "name": "stdout",
     "output_type": "stream",
     "text": [
      "Files already downloaded and verified\n",
      "Files already downloaded and verified\n",
      "100\n",
      "10\n"
     ]
    }
   ],
   "source": [
    "import torch\n",
    "import torchvision\n",
    "import torchvision.transforms as transforms\n",
    "\n",
    "from torchvision.datasets import CIFAR10\n",
    "from torch.utils.data import DataLoader\n",
    "from torch.utils.data import Subset\n",
    "\n",
    "\n",
    "# transform_train = transforms.ToTensor()\n",
    "transform_train = transforms.ToTensor()\n",
    "\n",
    "# transform_test = transforms.ToTensor()\n",
    "transform_test = transforms.ToTensor()\n",
    "\n",
    "train_set = CIFAR10(\n",
    "    root='./data/TransferLearning', train=True, download=True,\n",
    "    transform=transform_train\n",
    ")\n",
    "test_set = CIFAR10(\n",
    "    root='./data/TransferLearning', train=False, download=True,\n",
    "    transform=transform_test\n",
    ")\n",
    "\n",
    "subset_idx = range(100)\n",
    "train_subset = Subset(train_set, subset_idx)\n",
    "\n",
    "train_loader = DataLoader(train_subset, batch_size=10, shuffle=True)\n",
    "\n",
    "print(len(train_subset))\n",
    "print(len(train_loader))"
   ]
  },
  {
   "cell_type": "markdown",
   "metadata": {
    "cell_ktag": "cXDGAzn4gylN",
    "id": "fUno1nmu_2hh"
   },
   "source": [
    "* This is our dataset $\\mathcal{X}_{\\text{train}}$, it will be used until the end of this project. \n",
    "\n",
    "* The remaining samples correspond to $\\mathcal{X}$. \n",
    "\n",
    "* The testing set $\\mathcal{X}_{\\text{test}}$ corresponds to the whole testing set of CIFAR-10."
   ]
  },
  {
   "cell_type": "markdown",
   "metadata": {
    "cell_ktag": "cXDGAzn4gylN",
    "id": "Vr0d4o5L_2hi"
   },
   "source": [
    "## Testing procedure\n",
    "__Question 2 (0.5 points):__ Explain why the evaluation of the training procedure is difficult. Propose several solutions."
   ]
  },
  {
   "cell_type": "markdown",
   "metadata": {
    "cell_ktag": "cXDGAzn4gylN",
    "id": "ppiTrnpd_2hi"
   },
   "source": [
    "**Answer**  \n",
    "The evaluation of the training procedure is hard due to the very small number of sample. The model could overfit the sample of the training data.  \n",
    "Some solutions could be data augmentation or transfer learning."
   ]
  },
  {
   "cell_type": "markdown",
   "metadata": {
    "cell_ktag": "cXDGAzn4gylN",
    "id": "OEaIwILB_2hi"
   },
   "source": [
    "# The Baseline"
   ]
  },
  {
   "cell_type": "markdown",
   "metadata": {
    "cell_ktag": "cXDGAzn4gylN",
    "id": "M-PQZ2Vl_2hi"
   },
   "source": [
    "In this section, the goal is to train a CNN on $\\mathcal{X}_{\\text{train}}$ and compare its performance with reported numbers from the litterature. You will have to re-use and/or design a standard classification pipeline. You should optimize your pipeline to obtain the best performances (image size, data augmentation by flip, ...).\n",
    "\n",
    "The key ingredients for training a CNN are the batch size, as well as the learning rate scheduler (i.e. how to decrease the learning rate as a function of the number of epochs). A possible scheduler is to start the learning rate at 0.1 and decreasing it every 30 epochs by 10. In case of divergence, reduce the learning rate. A potential batch size could be 10, yet this can be cross-validated.\n",
    "\n",
    "You can get some baselines accuracies in this paper (obviously, it is a different context for those researchers who had access to GPUs!) : http://openaccess.thecvf.com/content_cvpr_2018/papers/Keshari_Learning_Structure_and_CVPR_2018_paper.pdf. "
   ]
  },
  {
   "cell_type": "markdown",
   "metadata": {
    "cell_ktag": "cXDGAzn4gylN",
    "id": "ARHWPXrY_2hi"
   },
   "source": [
    "## ResNet architectures"
   ]
  },
  {
   "cell_type": "markdown",
   "metadata": {
    "cell_ktag": "cXDGAzn4gylN",
    "id": "voMbGoNw_2hj"
   },
   "source": [
    "__Question 3 (2 points) :__ Write a classification pipeline for $\\mathcal{X}_{\\text{train}}$, train from scratch and evaluate a *ResNet-18* architecture specific to CIFAR10 (details about the ImageNet model can be found here: https://arxiv.org/abs/1512.03385). Please report the accuracy obtained on the whole dataset as well as the reference paper/GitHub link.\n",
    "\n",
    "*Hint :* You can re-use the following code : https://github.com/kuangliu/pytorch-cifar. During a training of 10 epochs, a batch size of 10 and a learning rate of 0.01, one obtains 40% accuracy on $\\mathcal{X}_{\\text{train}}$ (\\~2 minutes) and 20% accuracy on $\\mathcal{X}_{\\text{test}}$ (\\~5 minutes)."
   ]
  },
  {
   "cell_type": "code",
   "execution_count": 2,
   "metadata": {
    "cell_ktag": "cXDGAzn4gylN",
    "id": "RVHhKmWN_2hj"
   },
   "outputs": [],
   "source": [
    "import torch\n",
    "import torch.nn as nn\n",
    "import torch.nn.functional as F\n",
    "\n",
    "# ResNet18 from:  https://github.com/kuangliu/pytorch-cifar\n",
    "\n",
    "class BasicBlock(nn.Module):\n",
    "    expansion = 1\n",
    "\n",
    "    def __init__(self, in_planes, planes, stride=1):\n",
    "        super(BasicBlock, self).__init__()\n",
    "        self.conv1 = nn.Conv2d(\n",
    "            in_planes, planes, kernel_size=3, stride=stride, padding=1, bias=False)\n",
    "        self.bn1 = nn.BatchNorm2d(planes)\n",
    "        self.conv2 = nn.Conv2d(planes, planes, kernel_size=3,\n",
    "                               stride=1, padding=1, bias=False)\n",
    "        self.bn2 = nn.BatchNorm2d(planes)\n",
    "\n",
    "        self.shortcut = nn.Sequential()\n",
    "        if stride != 1 or in_planes != self.expansion*planes:\n",
    "            self.shortcut = nn.Sequential(\n",
    "                nn.Conv2d(in_planes, self.expansion*planes,\n",
    "                          kernel_size=1, stride=stride, bias=False),\n",
    "                nn.BatchNorm2d(self.expansion*planes)\n",
    "            )\n",
    "\n",
    "    def forward(self, x):\n",
    "        out = F.relu(self.bn1(self.conv1(x)))\n",
    "        out = self.bn2(self.conv2(out))\n",
    "        out += self.shortcut(x)\n",
    "        out = F.relu(out)\n",
    "        return out\n",
    "\n",
    "\n",
    "class Bottleneck(nn.Module):\n",
    "    expansion = 4\n",
    "\n",
    "    def __init__(self, in_planes, planes, stride=1):\n",
    "        super(Bottleneck, self).__init__()\n",
    "        self.conv1 = nn.Conv2d(in_planes, planes, kernel_size=1, bias=False)\n",
    "        self.bn1 = nn.BatchNorm2d(planes)\n",
    "        self.conv2 = nn.Conv2d(planes, planes, kernel_size=3,\n",
    "                               stride=stride, padding=1, bias=False)\n",
    "        self.bn2 = nn.BatchNorm2d(planes)\n",
    "        self.conv3 = nn.Conv2d(planes, self.expansion *\n",
    "                               planes, kernel_size=1, bias=False)\n",
    "        self.bn3 = nn.BatchNorm2d(self.expansion*planes)\n",
    "\n",
    "        self.shortcut = nn.Sequential()\n",
    "        if stride != 1 or in_planes != self.expansion*planes:\n",
    "            self.shortcut = nn.Sequential(\n",
    "                nn.Conv2d(in_planes, self.expansion*planes,\n",
    "                          kernel_size=1, stride=stride, bias=False),\n",
    "                nn.BatchNorm2d(self.expansion*planes)\n",
    "            )\n",
    "\n",
    "    def forward(self, x):\n",
    "        out = F.relu(self.bn1(self.conv1(x)))\n",
    "        out = F.relu(self.bn2(self.conv2(out)))\n",
    "        out = self.bn3(self.conv3(out))\n",
    "        out += self.shortcut(x)\n",
    "        out = F.relu(out)\n",
    "        return out\n",
    "\n",
    "\n",
    "class ResNet(nn.Module):\n",
    "    def __init__(self, block, num_blocks, num_classes=10):\n",
    "        super(ResNet, self).__init__()\n",
    "        self.in_planes = 64\n",
    "\n",
    "        self.conv1 = nn.Conv2d(3, 64, kernel_size=3,\n",
    "                               stride=1, padding=1, bias=False)\n",
    "        self.bn1 = nn.BatchNorm2d(64)\n",
    "        self.layer1 = self._make_layer(block, 64, num_blocks[0], stride=1)\n",
    "        self.layer2 = self._make_layer(block, 128, num_blocks[1], stride=2)\n",
    "        self.layer3 = self._make_layer(block, 256, num_blocks[2], stride=2)\n",
    "        self.layer4 = self._make_layer(block, 512, num_blocks[3], stride=2)\n",
    "        self.linear = nn.Linear(512*block.expansion, num_classes)\n",
    "\n",
    "    def _make_layer(self, block, planes, num_blocks, stride):\n",
    "        strides = [stride] + [1]*(num_blocks-1)\n",
    "        layers = []\n",
    "        for stride in strides:\n",
    "            layers.append(block(self.in_planes, planes, stride))\n",
    "            self.in_planes = planes * block.expansion\n",
    "        return nn.Sequential(*layers)\n",
    "\n",
    "    def forward(self, x):\n",
    "        out = F.relu(self.bn1(self.conv1(x)))\n",
    "        out = self.layer1(out)\n",
    "        out = self.layer2(out)\n",
    "        out = self.layer3(out)\n",
    "        out = self.layer4(out)\n",
    "        out = F.avg_pool2d(out, 4)\n",
    "        out = out.view(out.size(0), -1)\n",
    "        out = self.linear(out)\n",
    "        return out\n",
    "\n",
    "\n",
    "def ResNet18():\n",
    "    return ResNet(BasicBlock, [2, 2, 2, 2])\n"
   ]
  },
  {
   "cell_type": "code",
   "execution_count": 7,
   "metadata": {},
   "outputs": [],
   "source": [
    "# We define a pipeline calling preprocess, train_epoch and test \n",
    "\n",
    "from tqdm import tqdm\n",
    "\n",
    "def preprocess(transform_train, transform_test):\n",
    "\n",
    "    train_set = CIFAR10(\n",
    "        root='./data/TransferLearning', train=True, download=True,\n",
    "        transform=transform_train\n",
    "    )\n",
    "    test_set = CIFAR10(\n",
    "        root='./data/TransferLearning', train=False, download=True,\n",
    "        transform=transform_test\n",
    "    )\n",
    "\n",
    "    subset_idx = range(100)\n",
    "    train_subset = Subset(train_set, subset_idx)\n",
    "\n",
    "    return train_subset, test_set\n",
    "\n",
    "\n",
    "def train_epoch(model, optimizer, criterion, data_loader, device):\n",
    "\n",
    "    model.train()\n",
    "\n",
    "    cum_loss = 0\n",
    "\n",
    "    data_iterator = tqdm(data_loader, desc=f\"Training\")\n",
    "    for i, batch in enumerate(data_iterator):\n",
    "        x, y = batch\n",
    "        x, y = x.to(device), y.to(device)\n",
    "\n",
    "        optimizer.zero_grad()\n",
    "        outputs = model(x)\n",
    "        loss = criterion(outputs, y)\n",
    "        loss.backward()\n",
    "        optimizer.step()\n",
    "\n",
    "        cum_loss += loss.item()\n",
    "        avg_loss = cum_loss/(i+1)\n",
    "\n",
    "        data_iterator.set_postfix(loss=avg_loss)\n",
    "    \n",
    "    return cum_loss / len(data_iterator)\n",
    "\n",
    "\n",
    "def test(model, data_loader, device):\n",
    "\n",
    "    correct = 0\n",
    "    total = 0\n",
    "\n",
    "    model.eval()\n",
    "    with torch.no_grad():\n",
    "        for batch in tqdm(data_loader, desc=\"Test\"):\n",
    "            x, y = batch\n",
    "            x, y = x.to(device), y.to(device)\n",
    "\n",
    "            outputs = model(x)\n",
    "            for idx, i in enumerate(outputs):\n",
    "                if torch.argmax(i) == y[idx]:\n",
    "                    correct += 1\n",
    "                total += 1\n",
    "    accuracy = round(correct / total *100 , 3)\n",
    "    \n",
    "    print(f\"Accuracy: {accuracy}\")\n",
    "\n",
    "    return accuracy\n",
    "\n",
    "def pipeline(\n",
    "    transform_train, transform_test,\n",
    "    model, optimizer, criterion,\n",
    "    num_epoch, batch_size, lr,\n",
    "    scheduler=None,\n",
    "    device=torch.device('cpu')\n",
    "):\n",
    "    train_set, test_set = preprocess(transform_train, transform_test)\n",
    "    train_loader = DataLoader(train_set, batch_size=batch_size, shuffle=True)\n",
    "    test_loader = DataLoader(test_set, batch_size=batch_size, shuffle=False)\n",
    "\n",
    "    model = model.to(device)\n",
    "    # print(f\"partial optim is instanciated? {isinstance(optimizer, SGD)}\")\n",
    "    optimizer = optimizer(model.parameters(), lr=lr)\n",
    "    # print(f\"optim is instanciated? {isinstance(optimizer, SGD)}\")\n",
    "    criterion = criterion()\n",
    "    # print(f\"partial scheduler is instanciated? {isinstance(scheduler, lr_scheduler.CosineAnnealingLR)}\")\n",
    "    if scheduler is not None:\n",
    "        scheduler = scheduler(optimizer)\n",
    "    # print(f\"scheduler is instanciated? {isinstance(scheduler, lr_scheduler.CosineAnnealingLR)}\")\n",
    "\n",
    "    for epoch in range(1, num_epoch):\n",
    "        train_epoch(model, optimizer, criterion, train_loader, device)\n",
    "        if scheduler is not None: \n",
    "            scheduler.step()\n",
    "    \n",
    "    train_accuracy = test(model, train_loader, device)\n",
    "    test_accuracy = test(model, test_loader, device)\n",
    "\n",
    "    return train_accuracy, test_accuracy\n"
   ]
  },
  {
   "cell_type": "code",
   "execution_count": 48,
   "metadata": {},
   "outputs": [
    {
     "name": "stdout",
     "output_type": "stream",
     "text": [
      "Files already downloaded and verified\n",
      "Files already downloaded and verified\n"
     ]
    },
    {
     "name": "stderr",
     "output_type": "stream",
     "text": [
      "Training: 100%|██████████| 10/10 [00:00<00:00, 25.30it/s, loss=2.67]\n",
      "Training: 100%|██████████| 10/10 [00:00<00:00, 28.23it/s, loss=2.99]\n",
      "Training: 100%|██████████| 10/10 [00:00<00:00, 32.43it/s, loss=2.53]\n",
      "Training: 100%|██████████| 10/10 [00:00<00:00, 29.77it/s, loss=2.38]\n",
      "Training: 100%|██████████| 10/10 [00:00<00:00, 30.87it/s, loss=1.93]\n",
      "Training: 100%|██████████| 10/10 [00:00<00:00, 32.26it/s, loss=1.84]\n",
      "Training: 100%|██████████| 10/10 [00:00<00:00, 30.90it/s, loss=1.8]\n",
      "Training: 100%|██████████| 10/10 [00:00<00:00, 34.59it/s, loss=1.42]\n",
      "Training: 100%|██████████| 10/10 [00:00<00:00, 32.56it/s, loss=0.96]\n",
      "Test: 100%|██████████| 10/10 [00:00<00:00, 85.90it/s]\n"
     ]
    },
    {
     "name": "stdout",
     "output_type": "stream",
     "text": [
      "Accuracy: 69.0\n"
     ]
    },
    {
     "name": "stderr",
     "output_type": "stream",
     "text": [
      "Test: 100%|██████████| 1000/1000 [00:07<00:00, 129.28it/s]"
     ]
    },
    {
     "name": "stdout",
     "output_type": "stream",
     "text": [
      "Accuracy: 20.72\n"
     ]
    },
    {
     "name": "stderr",
     "output_type": "stream",
     "text": [
      "\n"
     ]
    }
   ],
   "source": [
    "from torch.nn import CrossEntropyLoss\n",
    "from torch.optim import SGD, Adam\n",
    "\n",
    "import torchvision.transforms as transforms\n",
    "\n",
    "from torch.optim import lr_scheduler\n",
    "from functools import partial\n",
    "\n",
    "transform_train = transforms.Compose([\n",
    "    # transforms.RandomCrop(32, padding=4),\n",
    "    # transforms.RandomHorizontalFlip(),\n",
    "    transforms.ToTensor(),\n",
    "    # transforms.Normalize((0.4914, 0.4822, 0.4465), (0.2023, 0.1994, 0.2010)),\n",
    "])\n",
    "\n",
    "transform_test = transforms.Compose([\n",
    "    transforms.ToTensor(),\n",
    "    # transforms.Normalize((0.4914, 0.4822, 0.4465), (0.2023, 0.1994, 0.2010)),\n",
    "])\n",
    "\n",
    "DEVICE = torch.device(\"cuda\" if torch.cuda.is_available() else \"cpu\")\n",
    "num_epoch = 10\n",
    "batch_size = 10\n",
    "lr = 0.01\n",
    "\n",
    "train_acc_resnet_18, test_acc_resnet_18 = pipeline(\n",
    "    transform_train, transform_test,\n",
    "    ResNet18(), partial(SGD, momentum=0.9, weight_decay=5e-4), CrossEntropyLoss,\n",
    "    num_epoch=10, batch_size=10, lr=0.01,\n",
    "    scheduler = partial(lr_scheduler.CosineAnnealingLR, T_max=200),\n",
    "    device=DEVICE\n",
    ")"
   ]
  },
  {
   "cell_type": "markdown",
   "metadata": {},
   "source": [
    "| Model | Number of  epochs  | Train accuracy | Test accuracy | Accuracy on whole dataset |\n",
    "|------|------|------|------| ------|\n",
    "|   ResNet18  | 10 | 69.0% | 20.72% | 93.02% |\n",
    "\n",
    "Accuracy on whole dataset as per https://github.com/kuangliu/pytorch-cifar/"
   ]
  },
  {
   "cell_type": "code",
   "execution_count": 14,
   "metadata": {},
   "outputs": [
    {
     "name": "stdout",
     "output_type": "stream",
     "text": [
      "Files already downloaded and verified\n",
      "Files already downloaded and verified\n"
     ]
    },
    {
     "name": "stderr",
     "output_type": "stream",
     "text": [
      "Training: 100%|██████████| 50/50 [00:01<00:00, 30.42it/s, loss=2.79]\n",
      "Training: 100%|██████████| 50/50 [00:01<00:00, 43.02it/s, loss=2.86]\n",
      "Training: 100%|██████████| 50/50 [00:00<00:00, 56.70it/s, loss=2.8] \n",
      "Training: 100%|██████████| 50/50 [00:01<00:00, 49.92it/s, loss=2.72]\n",
      "Training: 100%|██████████| 50/50 [00:00<00:00, 50.98it/s, loss=2.53]\n",
      "Training: 100%|██████████| 50/50 [00:00<00:00, 50.96it/s, loss=2.46]\n",
      "Training: 100%|██████████| 50/50 [00:01<00:00, 49.82it/s, loss=2.3] \n",
      "Training: 100%|██████████| 50/50 [00:00<00:00, 53.57it/s, loss=2.3] \n",
      "Training: 100%|██████████| 50/50 [00:00<00:00, 53.79it/s, loss=2.28]\n",
      "Test: 100%|██████████| 50/50 [00:00<00:00, 147.41it/s]\n",
      "Test: 100%|██████████| 5000/5000 [00:26<00:00, 190.74it/s]\n"
     ]
    },
    {
     "name": "stdout",
     "output_type": "stream",
     "text": [
      "Files already downloaded and verified\n",
      "Files already downloaded and verified\n"
     ]
    },
    {
     "name": "stderr",
     "output_type": "stream",
     "text": [
      "Training: 100%|██████████| 25/25 [00:00<00:00, 26.44it/s, loss=2.66]\n",
      "Training: 100%|██████████| 25/25 [00:00<00:00, 41.86it/s, loss=2.5] \n",
      "Training: 100%|██████████| 25/25 [00:00<00:00, 46.32it/s, loss=2.49]\n",
      "Training: 100%|██████████| 25/25 [00:00<00:00, 34.62it/s, loss=2.36]\n",
      "Training: 100%|██████████| 25/25 [00:00<00:00, 48.24it/s, loss=2.26]\n",
      "Training: 100%|██████████| 25/25 [00:00<00:00, 55.95it/s, loss=2.07]\n",
      "Training: 100%|██████████| 25/25 [00:00<00:00, 41.87it/s, loss=2.13]\n",
      "Training: 100%|██████████| 25/25 [00:00<00:00, 50.96it/s, loss=2]   \n",
      "Training: 100%|██████████| 25/25 [00:00<00:00, 36.93it/s, loss=2.2] \n",
      "Test: 100%|██████████| 25/25 [00:00<00:00, 131.91it/s]\n",
      "Test: 100%|██████████| 2500/2500 [00:13<00:00, 185.17it/s]\n"
     ]
    },
    {
     "name": "stdout",
     "output_type": "stream",
     "text": [
      "Files already downloaded and verified\n",
      "Files already downloaded and verified\n"
     ]
    },
    {
     "name": "stderr",
     "output_type": "stream",
     "text": [
      "Training: 100%|██████████| 13/13 [00:00<00:00, 18.09it/s, loss=2.38]\n",
      "Training: 100%|██████████| 13/13 [00:00<00:00, 35.70it/s, loss=2.27]\n",
      "Training: 100%|██████████| 13/13 [00:00<00:00, 39.51it/s, loss=2.2]\n",
      "Training: 100%|██████████| 13/13 [00:00<00:00, 44.05it/s, loss=2.13]\n",
      "Training: 100%|██████████| 13/13 [00:00<00:00, 43.43it/s, loss=1.98]\n",
      "Training: 100%|██████████| 13/13 [00:00<00:00, 35.69it/s, loss=1.95]\n",
      "Training: 100%|██████████| 13/13 [00:00<00:00, 43.68it/s, loss=1.91]\n",
      "Training: 100%|██████████| 13/13 [00:00<00:00, 42.35it/s, loss=1.8] \n",
      "Training: 100%|██████████| 13/13 [00:00<00:00, 43.83it/s, loss=1.61]\n",
      "Test: 100%|██████████| 13/13 [00:00<00:00, 85.94it/s]\n",
      "Test: 100%|██████████| 1250/1250 [00:13<00:00, 95.05it/s] \n"
     ]
    },
    {
     "name": "stdout",
     "output_type": "stream",
     "text": [
      "Files already downloaded and verified\n",
      "Files already downloaded and verified\n"
     ]
    },
    {
     "name": "stderr",
     "output_type": "stream",
     "text": [
      "Training: 100%|██████████| 7/7 [00:00<00:00, 14.27it/s, loss=2.41]\n",
      "Training: 100%|██████████| 7/7 [00:00<00:00, 35.63it/s, loss=2.25]\n",
      "Training: 100%|██████████| 7/7 [00:00<00:00, 33.96it/s, loss=2.13]\n",
      "Training: 100%|██████████| 7/7 [00:00<00:00, 32.60it/s, loss=2.13]\n",
      "Training: 100%|██████████| 7/7 [00:00<00:00, 33.55it/s, loss=1.96]\n",
      "Training: 100%|██████████| 7/7 [00:00<00:00, 22.85it/s, loss=1.84]\n",
      "Training: 100%|██████████| 7/7 [00:00<00:00, 20.65it/s, loss=1.79]\n",
      "Training: 100%|██████████| 7/7 [00:00<00:00, 22.07it/s, loss=1.69]\n",
      "Training: 100%|██████████| 7/7 [00:00<00:00, 22.89it/s, loss=1.64]\n",
      "Test: 100%|██████████| 7/7 [00:00<00:00, 37.18it/s]\n",
      "Test: 100%|██████████| 625/625 [00:08<00:00, 74.93it/s]\n"
     ]
    },
    {
     "name": "stdout",
     "output_type": "stream",
     "text": [
      "Files already downloaded and verified\n",
      "Files already downloaded and verified\n"
     ]
    },
    {
     "name": "stderr",
     "output_type": "stream",
     "text": [
      "Training: 100%|██████████| 4/4 [00:00<00:00, 10.33it/s, loss=2.41]\n",
      "Training: 100%|██████████| 4/4 [00:00<00:00, 16.12it/s, loss=2.24]\n",
      "Training: 100%|██████████| 4/4 [00:00<00:00, 21.15it/s, loss=2.1] \n",
      "Training: 100%|██████████| 4/4 [00:00<00:00, 25.48it/s, loss=2.15]\n",
      "Training: 100%|██████████| 4/4 [00:00<00:00, 28.17it/s, loss=2.1] \n",
      "Training: 100%|██████████| 4/4 [00:00<00:00, 28.06it/s, loss=2]   \n",
      "Training: 100%|██████████| 4/4 [00:00<00:00, 27.24it/s, loss=2.03]\n",
      "Training: 100%|██████████| 4/4 [00:00<00:00, 28.27it/s, loss=2.05]\n",
      "Training: 100%|██████████| 4/4 [00:00<00:00, 28.36it/s, loss=1.89]\n",
      "Test: 100%|██████████| 4/4 [00:00<00:00, 43.78it/s]\n",
      "Test: 100%|██████████| 313/313 [00:07<00:00, 42.47it/s]\n"
     ]
    }
   ],
   "source": [
    "train_accuracies = []\n",
    "test_accuracies = []\n",
    "\n",
    "for batch_size in [2, 4, 8, 16, 32]:\n",
    "    train_accuracy, test_accuracy = pipeline(\n",
    "        transform_train, transform_test,\n",
    "        ResNet18, SGD, CrossEntropyLoss,\n",
    "        num_epoch, batch_size, lr, \n",
    "        DEVICE\n",
    "    )\n",
    "    train_accuracies.append(train_accuracy)\n",
    "    test_accuracies.append(test_accuracy)"
   ]
  },
  {
   "cell_type": "code",
   "execution_count": 17,
   "metadata": {},
   "outputs": [
    {
     "data": {
      "image/png": "[encoded data removed]",
      "text/plain": [
       "<Figure size 640x480 with 1 Axes>"
      ]
     },
     "metadata": {},
     "output_type": "display_data"
    }
   ],
   "source": [
    "import matplotlib.pyplot as plt\n",
    "\n",
    "plt.plot([2, 4, 8, 16, 32], train_accuracies, label=\"Train accuracies\")\n",
    "plt.plot([2, 4, 8, 16, 32], test_accuracies, label=\"Test accuracies\")\n",
    "plt.legend()\n",
    "plt.show()"
   ]
  },
  {
   "cell_type": "markdown",
   "metadata": {
    "cell_ktag": "cXDGAzn4gylN",
    "id": "-C3mHqCk_2hj"
   },
   "source": [
    "# Transfer learning"
   ]
  },
  {
   "cell_type": "markdown",
   "metadata": {
    "cell_ktag": "cXDGAzn4gylN",
    "id": "8Tn9pW14_2hj"
   },
   "source": [
    "We propose to use pre-trained models on a classification and generative task, in order to improve the results of our setting."
   ]
  },
  {
   "cell_type": "markdown",
   "metadata": {
    "cell_ktag": "cXDGAzn4gylN",
    "id": "z8g_3ZDi_2hj"
   },
   "source": [
    "## ImageNet features"
   ]
  },
  {
   "cell_type": "markdown",
   "metadata": {
    "cell_ktag": "cXDGAzn4gylN",
    "id": "PfYEhdFb_2hj"
   },
   "source": [
    "Now, we will use some pre-trained models on ImageNet and see how well they compare on CIFAR. A list is available on : https://pytorch.org/vision/stable/models.html.\n",
    "\n",
    "__Question 4 (1 points):__ Pick a model from the list above, adapt it for CIFAR10 and retrain its final layer (or a block of layers, depending on the resources to which you have access to). Report its accuracy."
   ]
  },
  {
   "cell_type": "code",
   "execution_count": 18,
   "metadata": {
    "cell_ktag": "cXDGAzn4gylN",
    "collapsed": true,
    "id": "i_lh4xje_2hk"
   },
   "outputs": [
    {
     "name": "stderr",
     "output_type": "stream",
     "text": [
      "Downloading: \"https://download.pytorch.org/models/resnet18-f37072fd.pth\" to C:\\Users\\alexa/.cache\\torch\\hub\\checkpoints\\resnet18-f37072fd.pth\n",
      "  0%|          | 0.00/44.7M [00:00<?, ?B/s]"
     ]
    },
    {
     "name": "stderr",
     "output_type": "stream",
     "text": [
      "100%|██████████| 44.7M/44.7M [00:02<00:00, 16.6MB/s]\n"
     ]
    },
    {
     "data": {
      "text/plain": [
       "ResNet(\n",
       "  (conv1): Conv2d(3, 64, kernel_size=(7, 7), stride=(2, 2), padding=(3, 3), bias=False)\n",
       "  (bn1): BatchNorm2d(64, eps=1e-05, momentum=0.1, affine=True, track_running_stats=True)\n",
       "  (relu): ReLU(inplace=True)\n",
       "  (maxpool): MaxPool2d(kernel_size=3, stride=2, padding=1, dilation=1, ceil_mode=False)\n",
       "  (layer1): Sequential(\n",
       "    (0): BasicBlock(\n",
       "      (conv1): Conv2d(64, 64, kernel_size=(3, 3), stride=(1, 1), padding=(1, 1), bias=False)\n",
       "      (bn1): BatchNorm2d(64, eps=1e-05, momentum=0.1, affine=True, track_running_stats=True)\n",
       "      (relu): ReLU(inplace=True)\n",
       "      (conv2): Conv2d(64, 64, kernel_size=(3, 3), stride=(1, 1), padding=(1, 1), bias=False)\n",
       "      (bn2): BatchNorm2d(64, eps=1e-05, momentum=0.1, affine=True, track_running_stats=True)\n",
       "    )\n",
       "    (1): BasicBlock(\n",
       "      (conv1): Conv2d(64, 64, kernel_size=(3, 3), stride=(1, 1), padding=(1, 1), bias=False)\n",
       "      (bn1): BatchNorm2d(64, eps=1e-05, momentum=0.1, affine=True, track_running_stats=True)\n",
       "      (relu): ReLU(inplace=True)\n",
       "      (conv2): Conv2d(64, 64, kernel_size=(3, 3), stride=(1, 1), padding=(1, 1), bias=False)\n",
       "      (bn2): BatchNorm2d(64, eps=1e-05, momentum=0.1, affine=True, track_running_stats=True)\n",
       "    )\n",
       "  )\n",
       "  (layer2): Sequential(\n",
       "    (0): BasicBlock(\n",
       "      (conv1): Conv2d(64, 128, kernel_size=(3, 3), stride=(2, 2), padding=(1, 1), bias=False)\n",
       "      (bn1): BatchNorm2d(128, eps=1e-05, momentum=0.1, affine=True, track_running_stats=True)\n",
       "      (relu): ReLU(inplace=True)\n",
       "      (conv2): Conv2d(128, 128, kernel_size=(3, 3), stride=(1, 1), padding=(1, 1), bias=False)\n",
       "      (bn2): BatchNorm2d(128, eps=1e-05, momentum=0.1, affine=True, track_running_stats=True)\n",
       "      (downsample): Sequential(\n",
       "        (0): Conv2d(64, 128, kernel_size=(1, 1), stride=(2, 2), bias=False)\n",
       "        (1): BatchNorm2d(128, eps=1e-05, momentum=0.1, affine=True, track_running_stats=True)\n",
       "      )\n",
       "    )\n",
       "    (1): BasicBlock(\n",
       "      (conv1): Conv2d(128, 128, kernel_size=(3, 3), stride=(1, 1), padding=(1, 1), bias=False)\n",
       "      (bn1): BatchNorm2d(128, eps=1e-05, momentum=0.1, affine=True, track_running_stats=True)\n",
       "      (relu): ReLU(inplace=True)\n",
       "      (conv2): Conv2d(128, 128, kernel_size=(3, 3), stride=(1, 1), padding=(1, 1), bias=False)\n",
       "      (bn2): BatchNorm2d(128, eps=1e-05, momentum=0.1, affine=True, track_running_stats=True)\n",
       "    )\n",
       "  )\n",
       "  (layer3): Sequential(\n",
       "    (0): BasicBlock(\n",
       "      (conv1): Conv2d(128, 256, kernel_size=(3, 3), stride=(2, 2), padding=(1, 1), bias=False)\n",
       "      (bn1): BatchNorm2d(256, eps=1e-05, momentum=0.1, affine=True, track_running_stats=True)\n",
       "      (relu): ReLU(inplace=True)\n",
       "      (conv2): Conv2d(256, 256, kernel_size=(3, 3), stride=(1, 1), padding=(1, 1), bias=False)\n",
       "      (bn2): BatchNorm2d(256, eps=1e-05, momentum=0.1, affine=True, track_running_stats=True)\n",
       "      (downsample): Sequential(\n",
       "        (0): Conv2d(128, 256, kernel_size=(1, 1), stride=(2, 2), bias=False)\n",
       "        (1): BatchNorm2d(256, eps=1e-05, momentum=0.1, affine=True, track_running_stats=True)\n",
       "      )\n",
       "    )\n",
       "    (1): BasicBlock(\n",
       "      (conv1): Conv2d(256, 256, kernel_size=(3, 3), stride=(1, 1), padding=(1, 1), bias=False)\n",
       "      (bn1): BatchNorm2d(256, eps=1e-05, momentum=0.1, affine=True, track_running_stats=True)\n",
       "      (relu): ReLU(inplace=True)\n",
       "      (conv2): Conv2d(256, 256, kernel_size=(3, 3), stride=(1, 1), padding=(1, 1), bias=False)\n",
       "      (bn2): BatchNorm2d(256, eps=1e-05, momentum=0.1, affine=True, track_running_stats=True)\n",
       "    )\n",
       "  )\n",
       "  (layer4): Sequential(\n",
       "    (0): BasicBlock(\n",
       "      (conv1): Conv2d(256, 512, kernel_size=(3, 3), stride=(2, 2), padding=(1, 1), bias=False)\n",
       "      (bn1): BatchNorm2d(512, eps=1e-05, momentum=0.1, affine=True, track_running_stats=True)\n",
       "      (relu): ReLU(inplace=True)\n",
       "      (conv2): Conv2d(512, 512, kernel_size=(3, 3), stride=(1, 1), padding=(1, 1), bias=False)\n",
       "      (bn2): BatchNorm2d(512, eps=1e-05, momentum=0.1, affine=True, track_running_stats=True)\n",
       "      (downsample): Sequential(\n",
       "        (0): Conv2d(256, 512, kernel_size=(1, 1), stride=(2, 2), bias=False)\n",
       "        (1): BatchNorm2d(512, eps=1e-05, momentum=0.1, affine=True, track_running_stats=True)\n",
       "      )\n",
       "    )\n",
       "    (1): BasicBlock(\n",
       "      (conv1): Conv2d(512, 512, kernel_size=(3, 3), stride=(1, 1), padding=(1, 1), bias=False)\n",
       "      (bn1): BatchNorm2d(512, eps=1e-05, momentum=0.1, affine=True, track_running_stats=True)\n",
       "      (relu): ReLU(inplace=True)\n",
       "      (conv2): Conv2d(512, 512, kernel_size=(3, 3), stride=(1, 1), padding=(1, 1), bias=False)\n",
       "      (bn2): BatchNorm2d(512, eps=1e-05, momentum=0.1, affine=True, track_running_stats=True)\n",
       "    )\n",
       "  )\n",
       "  (avgpool): AdaptiveAvgPool2d(output_size=(1, 1))\n",
       "  (fc): Linear(in_features=512, out_features=1000, bias=True)\n",
       ")"
      ]
     },
     "execution_count": 18,
     "metadata": {},
     "output_type": "execute_result"
    }
   ],
   "source": [
    "from torchvision.models import resnet18, ResNet18_Weights\n",
    "\n",
    "weights = ResNet18_Weights.DEFAULT\n",
    "preprocessing = weights.transforms()\n",
    "pretrained_model = resnet18(weights=weights)\n",
    "pretrained_model"
   ]
  },
  {
   "cell_type": "code",
   "execution_count": 19,
   "metadata": {},
   "outputs": [],
   "source": [
    "from torch.nn import Linear\n",
    "\n",
    "# change the output size to correspond to CIFAR 10\n",
    "pretrained_model.fc = Linear(in_features=512, out_features=1000, bias=True)\n",
    "\n",
    "# freeze weights except last layer\n",
    "for param in pretrained_model.parameters():\n",
    "    param.requires_grad = False\n",
    "for param in pretrained_model.fc.parameters():\n",
    "    param.requires_grad = True"
   ]
  },
  {
   "cell_type": "code",
   "execution_count": 20,
   "metadata": {},
   "outputs": [
    {
     "name": "stdout",
     "output_type": "stream",
     "text": [
      "Files already downloaded and verified\n",
      "Files already downloaded and verified\n"
     ]
    },
    {
     "name": "stderr",
     "output_type": "stream",
     "text": [
      "Training: 100%|██████████| 10/10 [00:00<00:00, 17.99it/s, loss=4.38]\n",
      "Training: 100%|██████████| 10/10 [00:00<00:00, 26.90it/s, loss=1.84]\n",
      "Training: 100%|██████████| 10/10 [00:00<00:00, 27.27it/s, loss=1.23]\n",
      "Training: 100%|██████████| 10/10 [00:00<00:00, 29.08it/s, loss=0.654]\n",
      "Training: 100%|██████████| 10/10 [00:00<00:00, 30.98it/s, loss=0.905]\n",
      "Training: 100%|██████████| 10/10 [00:00<00:00, 29.76it/s, loss=0.745]\n",
      "Training: 100%|██████████| 10/10 [00:00<00:00, 30.56it/s, loss=0.501]\n",
      "Training: 100%|██████████| 10/10 [00:00<00:00, 30.21it/s, loss=0.34]\n",
      "Training: 100%|██████████| 10/10 [00:00<00:00, 26.91it/s, loss=0.283]\n",
      "Test: 100%|██████████| 10/10 [00:00<00:00, 27.35it/s]\n"
     ]
    },
    {
     "name": "stdout",
     "output_type": "stream",
     "text": [
      "Accuracy: 100.0\n"
     ]
    },
    {
     "name": "stderr",
     "output_type": "stream",
     "text": [
      "Test: 100%|██████████| 1000/1000 [00:32<00:00, 30.94it/s]"
     ]
    },
    {
     "name": "stdout",
     "output_type": "stream",
     "text": [
      "Accuracy: 46.91\n"
     ]
    },
    {
     "name": "stderr",
     "output_type": "stream",
     "text": [
      "\n"
     ]
    }
   ],
   "source": [
    "from torch.optim import lr_scheduler\n",
    "from functools import partial\n",
    "\n",
    "train_acc_resnet_18_pretrained, test_acc_resnet_18_pretrained = pipeline(\n",
    "    preprocessing, preprocessing,\n",
    "    pretrained_model, partial(SGD, momentum=0.9, weight_decay=5e-4), CrossEntropyLoss,\n",
    "    num_epoch=10, batch_size=10, lr=0.01,\n",
    "    scheduler = partial(lr_scheduler.CosineAnnealingLR, T_max=200),\n",
    "    device=DEVICE\n",
    ")"
   ]
  },
  {
   "cell_type": "markdown",
   "metadata": {},
   "source": [
    "| Model | Number of  epochs  | Train accuracy | Test accuracy | Accuracy on whole dataset |\n",
    "|------|------|------|------| ------|\n",
    "|   ResNet18  | 10 | 100.0% | 50.49% | 93.02% |\n",
    "\n",
    "Accuracy on whole dataset as per https://github.com/kuangliu/pytorch-cifar/"
   ]
  },
  {
   "cell_type": "markdown",
   "metadata": {
    "cell_ktag": "cXDGAzn4gylN",
    "id": "SvkuMzLs_2hk"
   },
   "source": [
    "# Incorporating *a priori*\n",
    "Geometrical *a priori* are appealing for image classification tasks, though one might have to handle several boundary effects.\n",
    "\n",
    "__Question 5 (0.5 points) :__ Explain the issues when dealing with translations, rotations, scaling effects, color changes on $32\\times32$ images. Propose several ideas to tackle them."
   ]
  },
  {
   "cell_type": "markdown",
   "metadata": {
    "cell_ktag": "cXDGAzn4gylN",
    "id": "TIaY60o1_2hk"
   },
   "source": [
    "**Answer**\n",
    "\n",
    "Performing these kind of transformation on small images can result in loss of information. For example when the image is translated, cropped or rotated, some pixels will turn black. There is too few pixels in the original image to allow this kind of loss of information. Scaling small image will deteriorate the quality and result in some loss of precious information, it can be interesting if the quality is good enough but not for small images. Color changes can deteriorate the color distribution or the texture or the original image.\n",
    "\n",
    "To mitigate this problems we can use padding. Padding the input image before transforming it will mitigate the problems of black pixels (boundary effect). Interpolation can be used during scaling to produce smoother results in order to preserve details in the transformed image. Normalization of the input image can help standardize the color distribution.\n"
   ]
  },
  {
   "cell_type": "markdown",
   "metadata": {
    "cell_ktag": "cXDGAzn4gylN",
    "id": "ds6e6teG_2hk"
   },
   "source": [
    "## Data augmentations"
   ]
  },
  {
   "cell_type": "markdown",
   "metadata": {
    "cell_ktag": "cXDGAzn4gylN",
    "id": "-Ek5wlOo_2hk"
   },
   "source": [
    "__Question 6 (4 points):__ Propose a set of geometric transformation beyond translation, and incorporate them in your training pipeline. Train the model of the __Question 3__ with them and report the accuracies."
   ]
  },
  {
   "cell_type": "code",
   "execution_count": 50,
   "metadata": {
    "cell_ktag": "cXDGAzn4gylN",
    "collapsed": true,
    "id": "FqCjrXGk_2hk"
   },
   "outputs": [
    {
     "name": "stdout",
     "output_type": "stream",
     "text": [
      "Files already downloaded and verified\n",
      "Files already downloaded and verified\n"
     ]
    },
    {
     "name": "stderr",
     "output_type": "stream",
     "text": [
      "Training: 100%|██████████| 10/10 [00:00<00:00, 19.35it/s, loss=2.77]\n",
      "Training: 100%|██████████| 10/10 [00:00<00:00, 29.72it/s, loss=3.17]\n",
      "Training: 100%|██████████| 10/10 [00:00<00:00, 27.13it/s, loss=3.03]\n",
      "Training: 100%|██████████| 10/10 [00:00<00:00, 27.30it/s, loss=2.9]\n",
      "Training: 100%|██████████| 10/10 [00:00<00:00, 27.74it/s, loss=2.52]\n",
      "Training: 100%|██████████| 10/10 [00:00<00:00, 29.57it/s, loss=2.21]\n",
      "Training: 100%|██████████| 10/10 [00:00<00:00, 33.92it/s, loss=2.15]\n",
      "Training: 100%|██████████| 10/10 [00:00<00:00, 27.65it/s, loss=2.1]\n",
      "Training: 100%|██████████| 10/10 [00:00<00:00, 21.92it/s, loss=1.9]\n",
      "Test: 100%|██████████| 10/10 [00:00<00:00, 62.27it/s]\n"
     ]
    },
    {
     "name": "stdout",
     "output_type": "stream",
     "text": [
      "Accuracy: 41.0\n"
     ]
    },
    {
     "name": "stderr",
     "output_type": "stream",
     "text": [
      "Test: 100%|██████████| 1000/1000 [00:08<00:00, 111.62it/s]"
     ]
    },
    {
     "name": "stdout",
     "output_type": "stream",
     "text": [
      "Accuracy: 20.9\n"
     ]
    },
    {
     "name": "stderr",
     "output_type": "stream",
     "text": [
      "\n"
     ]
    }
   ],
   "source": [
    "# transform_train = transforms.Compose([\n",
    "#     transforms.RandomCrop(32, padding=4),\n",
    "#     transforms.RandomApply([\n",
    "#         transforms.RandomHorizontalFlip(p=0.5),\n",
    "#         transforms.RandomVerticalFlip(p=0.5),\n",
    "#     ], p=0.2),\n",
    "#     transforms.RandomApply([\n",
    "#         transforms.ColorJitter(brightness=0.2, contrast=0.2, saturation=0.2, hue=0.1),\n",
    "#         transforms.RandomGrayscale(p=0.3),\n",
    "#         transforms.RandomInvert(p=0.3)\n",
    "#     ], p=0.2),\n",
    "#     transforms.ToTensor(),\n",
    "#     transforms.Normalize((0.4914, 0.4822, 0.4465), (0.2023, 0.1994, 0.2010)),\n",
    "# ])\n",
    "\n",
    "# transform_train = transforms.Compose([\n",
    "#     transforms.RandomCrop(32, padding=4),\n",
    "#     transforms.RandomHorizontalFlip(p=0.5),\n",
    "#     transforms.RandomGrayscale(p=0.2),\n",
    "#     transforms.RandomInvert(p=0.2),\n",
    "#     transforms.ToTensor(),\n",
    "#     transforms.Normalize((0.4914, 0.4822, 0.4465), (0.2023, 0.1994, 0.2010)),\n",
    "# ])\n",
    "\n",
    "\n",
    "transform_train = transforms.Compose([\n",
    "    transforms.RandomCrop(32, padding=4),\n",
    "    transforms.RandomHorizontalFlip(),\n",
    "    transforms.ToTensor(),\n",
    "    transforms.Normalize((0.4914, 0.4822, 0.4465), (0.2023, 0.1994, 0.2010)),\n",
    "])\n",
    "\n",
    "transform_test = transforms.Compose([\n",
    "    transforms.ToTensor(),\n",
    "    transforms.Normalize((0.4914, 0.4822, 0.4465), (0.2023, 0.1994, 0.2010)),\n",
    "])\n",
    "\n",
    "DEVICE = torch.device(\"cuda\" if torch.cuda.is_available() else \"cpu\")\n",
    "num_epoch = 10\n",
    "batch_size = 10\n",
    "lr = 0.01\n",
    "\n",
    "train_acc_resnet18_with_aug, test_acc_resnet_18_with_aug = pipeline(\n",
    "    transform_train, transform_test,\n",
    "    ResNet18(), partial(SGD, momentum=0.9, weight_decay=5e-4), CrossEntropyLoss,\n",
    "    num_epoch=10, batch_size=10, lr=0.01,\n",
    "    scheduler = partial(lr_scheduler.CosineAnnealingLR, T_max=200),\n",
    "    device=DEVICE\n",
    ")"
   ]
  },
  {
   "cell_type": "code",
   "execution_count": 52,
   "metadata": {},
   "outputs": [
    {
     "data": {
      "image/png": "[encoded data removed]",
      "text/plain": [
       "<Figure size 640x480 with 1 Axes>"
      ]
     },
     "metadata": {},
     "output_type": "display_data"
    }
   ],
   "source": [
    "accs = [test_acc_resnet_18, test_acc_resnet_18_with_aug, test_acc_resnet_18_pretrained]\n",
    "models = [\"Resnet18\", \"Resnet18 & Augmentations\",\"Resnet18 Pretrained\"]\n",
    "plt.bar(models, accs)\n",
    "plt.xlabel('Models')\n",
    "plt.ylabel('Accuracy (%)')\n",
    "plt.ylim(0, 100)\n",
    "plt.tight_layout()\n",
    "plt.show()"
   ]
  },
  {
   "cell_type": "markdown",
   "metadata": {
    "cell_ktag": "cXDGAzn4gylN",
    "id": "HRUA5I8N_2hk"
   },
   "source": [
    "# Conclusions"
   ]
  },
  {
   "cell_type": "markdown",
   "metadata": {
    "cell_ktag": "cXDGAzn4gylN",
    "id": "RmyiWAPJ_2hl"
   },
   "source": [
    "__Question 7 (3 points) :__ Write a short report explaining the pros and the cons of each method that you implemented. 25% of the grade of this project will correspond to this question, thus, it should be done carefully. In particular, please add a plot that will summarize all your numerical results."
   ]
  },
  {
   "cell_type": "markdown",
   "metadata": {
    "cell_ktag": "cXDGAzn4gylN",
    "id": "zJ-v4Nev_2hl"
   },
   "source": [
    "1. The baseline\n",
    "In the baseline, we achieve poor performance because the training set is too small.\n",
    "The model has difficulties to extract features that are discriminative and generalizable, we can see that the model overfits the training data.\n",
    "\n",
    "2. Data Augmentations\n",
    "In the data augmentation method, we apply transformations to the training set. These transformations aim to prevent the model from focusing on features that are specific to the training image in terms of structure or colors. It allows the model to see more different inputs and to try and focus on more discriminative features. Introducing geometric perturbations allows to mititgatet the geometric priors. The increase in result is not really substantial in our example but we still have improvement.\n",
    "\n",
    "3. Transfer Learning\n",
    "In the Transfer Learning metod, we use a pretrained model that has already encountered a multitude of images. It can therefore be adapted to the CIFAR1 dataset rather easily by finetuning the last layers of the model. The advantage of this method is that we can leverage a big model, having encountered many images, and not being focuses on special structural features form input data, without a lot of training. Such a model will usually not be too focused on domain or structure of the images. HOwever it has to be chosen carefully depending on the datazst it has been trained on.\n"
   ]
  }
 ],
 "metadata": {
  "colab": {
   "provenance": []
  },
  "kernelspec": {
   "display_name": "Python 3 (ipykernel)",
   "language": "python",
   "name": "python3"
  },
  "kfiletag": "cXDGAzn4gylN",
  "language_info": {
   "codemirror_mode": {
    "name": "ipython",
    "version": 3
   },
   "file_extension": ".py",
   "mimetype": "text/x-python",
   "name": "python",
   "nbconvert_exporter": "python",
   "pygments_lexer": "ipython3",
   "version": "3.11.7"
  }
 },
 "nbformat": 4,
 "nbformat_minor": 1
}
